{
 "cells": [
  {
   "cell_type": "code",
   "execution_count": 1,
   "id": "f745cec3-f0d0-4a59-a0a6-808bf31f1679",
   "metadata": {},
   "outputs": [],
   "source": [
    "import logging "
   ]
  },
  {
   "cell_type": "code",
   "execution_count": null,
   "id": "1b6b7c7d-993d-43e0-84a2-cdbe9630ef16",
   "metadata": {},
   "outputs": [],
   "source": [
    "logging.DEBUG\n",
    "logging.info\n",
    "logging.warning\n",
    "logging.error\n",
    "logging.critical"
   ]
  },
  {
   "cell_type": "code",
   "execution_count": 13,
   "id": "2226eb8f-29f6-47f3-9073-343e725783de",
   "metadata": {},
   "outputs": [],
   "source": [
    "DEBUG = 10\n",
    "Info = 20\n",
    "Warniing = 30\n",
    "Error = 40\n",
    "Critical = 50"
   ]
  },
  {
   "cell_type": "code",
   "execution_count": 15,
   "id": "8086c395-87e9-433b-b591-e846b92d9fdc",
   "metadata": {},
   "outputs": [
    {
     "name": "stdout",
     "output_type": "stream",
     "text": [
      "6\n"
     ]
    }
   ],
   "source": [
    "i=1\n",
    "while i<=5:\n",
    "     i+=1\n",
    "print(i)"
   ]
  },
  {
   "cell_type": "code",
   "execution_count": 17,
   "id": "4e0f454f-b3b0-46af-9993-042492cd5e49",
   "metadata": {},
   "outputs": [
    {
     "name": "stdout",
     "output_type": "stream",
     "text": [
      "5\n"
     ]
    }
   ],
   "source": [
    "a=2\n",
    "b=3\n",
    "print(a+b)"
   ]
  },
  {
   "cell_type": "code",
   "execution_count": 1,
   "id": "4e4d73e0-3331-4616-8e9b-ec042fa55dc9",
   "metadata": {},
   "outputs": [
    {
     "name": "stdout",
     "output_type": "stream",
     "text": [
      "[1, 2, 3]\n"
     ]
    }
   ],
   "source": [
    "x=[1,2,3]\n",
    "y=x[:]\n",
    "y[0]=10\n",
    "print(x)"
   ]
  },
  {
   "cell_type": "code",
   "execution_count": 8,
   "id": "402cc772-dd51-4460-9638-8edef48e8fbb",
   "metadata": {},
   "outputs": [
    {
     "name": "stdout",
     "output_type": "stream",
     "text": [
      "1\n",
      "3\n",
      "5\n",
      "7\n",
      "9\n"
     ]
    }
   ],
   "source": [
    "num = 0\n",
    "while num<=10:\n",
    "    if num % 2 == 0:\n",
    "      num+=1\n",
    "      continue\n",
    "    print(num)\n",
    "    num+=1"
   ]
  },
  {
   "cell_type": "code",
   "execution_count": 15,
   "id": "32c32ab4-43a8-4d0e-ac25-0e442349c7cb",
   "metadata": {},
   "outputs": [
    {
     "name": "stdout",
     "output_type": "stream",
     "text": [
      "[1, 2, 3, 3]\n"
     ]
    }
   ],
   "source": [
    "nums =[1,2,3]\n",
    "nums.insert(4,3)\n",
    "print(nums)"
   ]
  },
  {
   "cell_type": "code",
   "execution_count": 20,
   "id": "8ce06c02-a2da-4291-a19f-e8ffbe37c4aa",
   "metadata": {},
   "outputs": [
    {
     "name": "stdout",
     "output_type": "stream",
     "text": [
      "1\n",
      "2\n",
      "3\n"
     ]
    }
   ],
   "source": [
    "a=0\n",
    "b=180\n",
    "while b>10:\n",
    "    b=b/3\n",
    "    a=a+1\n",
    "    print(a)"
   ]
  },
  {
   "cell_type": "markdown",
   "id": "edc52fd7-7e51-42a4-b88d-9be8921dffb1",
   "metadata": {},
   "source": [
    "positional = fix\n",
    "\n",
    "*arg = non-keyword argument \n",
    "\n",
    "**kwargs = keyword argument "
   ]
  },
  {
   "cell_type": "code",
   "execution_count": null,
   "id": "45b90c29-175d-4a3f-8c25-394cbc112b86",
   "metadata": {},
   "outputs": [],
   "source": [
    "def test2(a):\n",
    "    b = a**3\n",
    "    return b"
   ]
  },
  {
   "cell_type": "code",
   "execution_count": null,
   "id": "6fdb5634-06b8-4f82-993a-39961f1d9da7",
   "metadata": {},
   "outputs": [],
   "source": [
    "def test4(*a):\n",
    "    return a"
   ]
  },
  {
   "cell_type": "code",
   "execution_count": 18,
   "id": "7bbb22a0-3462-4db8-8c64-9f2cb65c96b2",
   "metadata": {},
   "outputs": [],
   "source": [
    "def test():\n",
    "    return \"hello\""
   ]
  },
  {
   "cell_type": "code",
   "execution_count": 19,
   "id": "0e073729-c79e-46d1-8e7d-e8a55fd23861",
   "metadata": {},
   "outputs": [
    {
     "data": {
      "text/plain": [
       "'hello'"
      ]
     },
     "execution_count": 19,
     "metadata": {},
     "output_type": "execute_result"
    }
   ],
   "source": [
    "test()"
   ]
  },
  {
   "cell_type": "code",
   "execution_count": 20,
   "id": "f6c5e3a1-6d1c-4c8c-bb61-4e6c791bc2f8",
   "metadata": {},
   "outputs": [],
   "source": [
    "def test2(a):\n",
    "    b = a**3\n",
    "    return b"
   ]
  },
  {
   "cell_type": "code",
   "execution_count": 23,
   "id": "0c76d777-aff2-4d16-a4b0-39d97c3865ed",
   "metadata": {},
   "outputs": [
    {
     "data": {
      "text/plain": [
       "216"
      ]
     },
     "execution_count": 23,
     "metadata": {},
     "output_type": "execute_result"
    }
   ],
   "source": [
    "test2(6)"
   ]
  },
  {
   "cell_type": "code",
   "execution_count": 28,
   "id": "eb2b5dae-6d4e-42f7-be01-22e5b698500c",
   "metadata": {},
   "outputs": [],
   "source": [
    "def test4(*a):\n",
    "    return a"
   ]
  },
  {
   "cell_type": "code",
   "execution_count": 30,
   "id": "6faac474-429b-4590-a150-e6d2e5d46744",
   "metadata": {},
   "outputs": [
    {
     "data": {
      "text/plain": [
       "(5, 6, 7, 9)"
      ]
     },
     "execution_count": 30,
     "metadata": {},
     "output_type": "execute_result"
    }
   ],
   "source": [
    "test4(5,6,7,9)"
   ]
  },
  {
   "cell_type": "code",
   "execution_count": 31,
   "id": "13faebe3-a02f-4635-ac0b-ca6aaba42f07",
   "metadata": {},
   "outputs": [],
   "source": [
    "def test5(**a):\n",
    "    return a"
   ]
  },
  {
   "cell_type": "code",
   "execution_count": 34,
   "id": "6c507ea3-5d71-47c3-aa2c-06cc47b4dba6",
   "metadata": {},
   "outputs": [
    {
     "data": {
      "text/plain": [
       "{}"
      ]
     },
     "execution_count": 34,
     "metadata": {},
     "output_type": "execute_result"
    }
   ],
   "source": [
    "test5()"
   ]
  },
  {
   "cell_type": "code",
   "execution_count": null,
   "id": "d276d4ae-a491-4d6b-949d-d15dad7a1808",
   "metadata": {},
   "outputs": [],
   "source": []
  }
 ],
 "metadata": {
  "kernelspec": {
   "display_name": "Python 3 (ipykernel)",
   "language": "python",
   "name": "python3"
  },
  "language_info": {
   "codemirror_mode": {
    "name": "ipython",
    "version": 3
   },
   "file_extension": ".py",
   "mimetype": "text/x-python",
   "name": "python",
   "nbconvert_exporter": "python",
   "pygments_lexer": "ipython3",
   "version": "3.11.7"
  }
 },
 "nbformat": 4,
 "nbformat_minor": 5
}
