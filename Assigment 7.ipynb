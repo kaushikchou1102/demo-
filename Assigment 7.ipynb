{
 "cells": [
  {
   "cell_type": "markdown",
   "id": "2ab0751f-1c29-4315-99e1-210512349bee",
   "metadata": {},
   "source": [
    "1. What is the name of the feature responsible for generating Regex objects?\n"
   ]
  },
  {
   "cell_type": "markdown",
   "id": "9f47a587-0c3f-4ee5-a1fd-f147ac19c963",
   "metadata": {},
   "source": [
    " Ans\n",
    " \n",
    " The re.compile() function returns Regex object"
   ]
  },
  {
   "cell_type": "markdown",
   "id": "324d19aa-3a4f-4eee-9ac4-35d7ef6af978",
   "metadata": {},
   "source": [
    "2. Why do raw strings often appear in Regex objects?\n"
   ]
  },
  {
   "cell_type": "markdown",
   "id": "2c20214b-ba65-4b37-a802-0682d57dc4b4",
   "metadata": {},
   "source": [
    "Ans . \n",
    "\n",
    "Raw strings are used so that backslashes do not have to be escaped\n",
    "\n"
   ]
  },
  {
   "cell_type": "markdown",
   "id": "87446be4-20e6-43ab-87ee-a9f2428d33bc",
   "metadata": {},
   "source": [
    "3. What is the return value of the search() method?\n"
   ]
  },
  {
   "cell_type": "markdown",
   "id": "3929763d-4437-4489-8395-b2462d48a6ab",
   "metadata": {},
   "source": [
    "Ans \n",
    "\n",
    "The search() method returns Match objects"
   ]
  },
  {
   "cell_type": "markdown",
   "id": "fcc800d8-bab1-42ca-83e3-1529d5f92d10",
   "metadata": {},
   "source": [
    "4. From a Match item, how do you get the actual strings that match the pattern?\n"
   ]
  },
  {
   "cell_type": "markdown",
   "id": "c03a9d23-9631-4959-b6c7-f0b3fd2778e2",
   "metadata": {},
   "source": [
    "Ans\n",
    "\n",
    "  The group() method returns strings of the matched text."
   ]
  },
  {
   "cell_type": "markdown",
   "id": "5c88040a-07af-403e-88ce-72ac435ce6e3",
   "metadata": {},
   "source": [
    "5. In the regex which created from the r'(\\d\\d\\d)-(\\d\\d\\d-\\d\\d\\d\\d)', what does group zero cover? Group 2? Group 1?\n"
   ]
  },
  {
   "cell_type": "markdown",
   "id": "77278e8a-2d6d-467c-9559-dddb896065cb",
   "metadata": {},
   "source": [
    "Ans\n",
    "\n",
    "Group 0 is the entire match, group 1 covers the first set of parentheses, and group 2 covers the second set of parentheses"
   ]
  },
  {
   "cell_type": "code",
   "execution_count": 15,
   "id": "6e029391-32f2-49bc-be6d-8bf0c66d39a2",
   "metadata": {},
   "outputs": [
    {
     "data": {
      "text/plain": [
       "'345-444-4542'"
      ]
     },
     "execution_count": 15,
     "metadata": {},
     "output_type": "execute_result"
    }
   ],
   "source": [
    "import re\n",
    "phoneNumRegex = re.compile(r'(\\d\\d\\d)-(\\d\\d\\d-\\d\\d\\d\\d)')\n",
    "mo = phoneNumRegex.search('My number is 345-444-4542.')\n",
    "mo.group(0)"
   ]
  },
  {
   "cell_type": "code",
   "execution_count": 16,
   "id": "df18b48c-89a1-43d2-8c87-db6074fb955c",
   "metadata": {},
   "outputs": [
    {
     "data": {
      "text/plain": [
       "'345'"
      ]
     },
     "execution_count": 16,
     "metadata": {},
     "output_type": "execute_result"
    }
   ],
   "source": [
    "mo.group(1)"
   ]
  },
  {
   "cell_type": "code",
   "execution_count": 17,
   "id": "f2e8c0d1-3534-4dc5-a63c-65520d4e3939",
   "metadata": {},
   "outputs": [
    {
     "data": {
      "text/plain": [
       "'444-4542'"
      ]
     },
     "execution_count": 17,
     "metadata": {},
     "output_type": "execute_result"
    }
   ],
   "source": [
    "mo.group(2)"
   ]
  },
  {
   "cell_type": "markdown",
   "id": "e942e2f4-d45e-493d-9797-9db6dc07a106",
   "metadata": {},
   "source": [
    "6. In standard expression syntax, parentheses and intervals have distinct meanings. How can you tell a regex that you want it to fit real parentheses and periods?\n"
   ]
  },
  {
   "cell_type": "markdown",
   "id": "1348d9fb-73e0-4ec6-9e40-c182e9eca546",
   "metadata": {},
   "source": [
    "Ans: \n",
    "\n",
    "Periods and parentheses can be escaped with a backslash: \\., \\(, and \\)."
   ]
  },
  {
   "cell_type": "markdown",
   "id": "a43edce4-02f2-414f-a8e9-2d95606f5439",
   "metadata": {},
   "source": [
    "7. The findall() method returns a string list or a list of string tuples. What causes it to return one of the two options?\n"
   ]
  },
  {
   "cell_type": "markdown",
   "id": "df14108e-5d2b-4d9f-b90f-38f3ef644a2e",
   "metadata": {},
   "source": [
    "Ans: \n",
    "\n",
    "If the regex has no groups, a list of strings is returned. If the regex has groups, a list of tuples of strings is returned."
   ]
  },
  {
   "cell_type": "markdown",
   "id": "cebd0c0b-f457-446e-8caa-8128ceda75c3",
   "metadata": {},
   "source": [
    "8. In standard expressions, what does the | character mean?\n"
   ]
  },
  {
   "cell_type": "markdown",
   "id": "818f4648-e007-419c-ad9e-698b7942ffe6",
   "metadata": {},
   "source": [
    "Ans: \n",
    "\n",
    "The | character signifies matching “either, or” between two groups."
   ]
  },
  {
   "cell_type": "markdown",
   "id": "ec6be6b0-2ebf-4b08-90f4-c6f79736ddf2",
   "metadata": {},
   "source": [
    "9. In regular expressions, what does the character stand for?\n"
   ]
  },
  {
   "cell_type": "markdown",
   "id": "00e09522-3cae-40c2-bad7-c0d648ef38f6",
   "metadata": {},
   "source": [
    "Ans. \n",
    "\n",
    "The ? character can either mean “match zero or one of the preceding group”."
   ]
  },
  {
   "cell_type": "markdown",
   "id": "8a180607-a9cb-41e5-ba84-89697be3972e",
   "metadata": {},
   "source": [
    "10.  In regular expressions, what is the difference between the + and * characters?\n"
   ]
  },
  {
   "cell_type": "markdown",
   "id": "c7346585-0f6b-4201-b4d3-8117c2808c25",
   "metadata": {},
   "source": [
    "Ans\n",
    "\n",
    "The + matches one or more. \n",
    "\n",
    "The * matches zero or more."
   ]
  },
  {
   "cell_type": "markdown",
   "id": "4f4e192b-5a25-43ef-996f-2d7adc026113",
   "metadata": {},
   "source": [
    "11. What is the difference between {4} and {4,5} in regular expression?\n"
   ]
  },
  {
   "cell_type": "markdown",
   "id": "0e26dcaa-fe9f-4300-8ce1-5a8cd32e571f",
   "metadata": {},
   "source": [
    "Ans\n",
    "\n",
    "The {4} matches exactly three instances of the preceding group. \n",
    "\n",
    "The {4,5} matches between four and five instances."
   ]
  },
  {
   "cell_type": "markdown",
   "id": "adae9b05-81e8-4a45-83db-692e08a0ac0c",
   "metadata": {},
   "source": [
    "12. What do you mean by the \\d, \\w, and \\s shorthand character classes signify in regular expressions?\n"
   ]
  },
  {
   "cell_type": "markdown",
   "id": "539651a7-0119-4dd1-b2cf-dbc2b9b2c6da",
   "metadata": {},
   "source": [
    "Ans: \n",
    "\n",
    "The \\d, single digit\n",
    "\n",
    "\\w, word\n",
    "\n",
    "\\s space character"
   ]
  },
  {
   "cell_type": "markdown",
   "id": "0aaae1b1-c30d-4840-83d0-0f56d1c41582",
   "metadata": {},
   "source": [
    "13. What do means by \\D, \\W, and \\S shorthand character classes signify in regular expressions?\n"
   ]
  },
  {
   "cell_type": "markdown",
   "id": "5dbc5fb5-3bdb-4f24-afd7-8887b10829f9",
   "metadata": {},
   "source": [
    "Ans\n",
    "\n",
    " \\D  Any character that is not a numeric digit from 0 to 9.\n",
    "     \n",
    "\\W Any character that is not a letter, numeric digit, or the underscore character.\n",
    "\n",
    "\\S Any character that is not a space, tab, or newline."
   ]
  },
  {
   "cell_type": "markdown",
   "id": "765e8b2b-b448-4e1c-b9d3-24b0b19fa4e9",
   "metadata": {},
   "source": [
    "14. What is the difference between .*? and .*?\n"
   ]
  },
  {
   "cell_type": "markdown",
   "id": "e8f5c837-d352-4806-968d-60bb4e88b788",
   "metadata": {},
   "source": [
    "Ans \n",
    "\n",
    ".* - The dot-star uses greedy mode: It will always try to match as much text as possible.\n",
    "\n",
    ".? - To match any and all text in a non-greedy fashion, use the dot, star, and question mark (.?). Like with braces, the question mark tells Python to match in a non-greedy way."
   ]
  },
  {
   "cell_type": "markdown",
   "id": "7b5bc76c-7fac-4ec2-bee6-ca8048ccf980",
   "metadata": {},
   "source": [
    "15. What is the syntax for matching both numbers and lowercase letters with a character class?\n"
   ]
  },
  {
   "cell_type": "markdown",
   "id": "35eb4e48-ddcc-4136-ab33-9c1d8f283d34",
   "metadata": {},
   "source": [
    "Ans.\n",
    "\n",
    "Either [0-9a-z] or [a-z0-9]"
   ]
  },
  {
   "cell_type": "markdown",
   "id": "5ac64d79-4e05-4490-a00e-511eb11d769d",
   "metadata": {},
   "source": [
    "16. What is the procedure for making a normal expression in regax case insensitive?\n"
   ]
  },
  {
   "cell_type": "markdown",
   "id": "ee3340ab-0fd0-4d21-b474-645b5d4b0f2e",
   "metadata": {},
   "source": [
    "Ans. \n",
    "\n",
    "Passing re.I or re.IGNORECASE as the second argument to re.compile() will make the matching case insensitive"
   ]
  },
  {
   "cell_type": "markdown",
   "id": "c587f3f0-4b9b-448c-b62a-585563c58cc2",
   "metadata": {},
   "source": [
    "17. What does the . character normally match? What does it match if re.DOTALL is passed as 2nd argument in re.compile()?\n"
   ]
  },
  {
   "cell_type": "markdown",
   "id": "3fcae6a1-61f2-4709-a33d-896797b3fee3",
   "metadata": {},
   "source": [
    "Ans: \n",
    "\n",
    "The . character normally matches any character except the newline character. If re.DOTALL is passed as the second argument to re.compile(), then the dot will also match newline character"
   ]
  },
  {
   "cell_type": "markdown",
   "id": "0b63a29f-f772-4492-831a-09fa37936357",
   "metadata": {},
   "source": [
    "18. If numReg = re.compile(r'\\d+'), what will numRegex.sub('X', '11 drummers, 10 pipers, five rings, 4 hen') return?\n"
   ]
  },
  {
   "cell_type": "code",
   "execution_count": 2,
   "id": "9e2f6527-114c-401a-ad33-0e1aed7c7ed7",
   "metadata": {},
   "outputs": [
    {
     "data": {
      "text/plain": [
       "'X drummers, X pipers, five rings, X hen'"
      ]
     },
     "execution_count": 2,
     "metadata": {},
     "output_type": "execute_result"
    }
   ],
   "source": [
    "import re\n",
    "numRegex = re.compile(r'\\d+')\n",
    "mo = numRegex.sub('X', '11 drummers, 10 pipers, five rings, 4 hen')\n",
    "mo\n",
    "     "
   ]
  },
  {
   "cell_type": "markdown",
   "id": "1282bbf3-012d-4b4d-8d02-4287a45c7668",
   "metadata": {},
   "source": [
    "19. What does passing re.VERBOSE as the 2nd argument to re.compile() allow to do?\n"
   ]
  },
  {
   "cell_type": "markdown",
   "id": "aa6a8540-a6a3-4884-8553-1c5220a870e3",
   "metadata": {},
   "source": [
    "Ans. \n",
    "\n",
    "The re.VERBOSE argument allows you to add whitespace and comments to the string passed to re.compile()\n",
    "\n"
   ]
  },
  {
   "cell_type": "markdown",
   "id": "f55195c7-bfc4-4932-87d1-7648330929ce",
   "metadata": {},
   "source": [
    "20. How would you write a regex that match a number with comma for every three digits? It must match the given following:\n",
    "    \n",
    "'42'\n",
    "\n",
    "'1,234'\n",
    "\n",
    "'6,368,745'\n",
    "\n",
    "but not the following:\n",
    "\n",
    "'12,34,567' (which has only two digits between the commas)\n",
    "\n",
    "'1234' (which lacks commas)\n",
    "\n",
    "\n"
   ]
  },
  {
   "cell_type": "code",
   "execution_count": 4,
   "id": "2c64ea14-37df-48e8-95fd-3d5652d4e635",
   "metadata": {},
   "outputs": [
    {
     "data": {
      "text/plain": [
       "'42'"
      ]
     },
     "execution_count": 4,
     "metadata": {},
     "output_type": "execute_result"
    }
   ],
   "source": [
    "reg1 = re.compile(r'^\\d{1,3}(,\\d{3})*$')\n",
    "mo1 = reg1.search('42')\n",
    "mo1.group()"
   ]
  },
  {
   "cell_type": "code",
   "execution_count": 5,
   "id": "eae4d8da-b54f-4d05-8f12-e3182277087e",
   "metadata": {},
   "outputs": [
    {
     "data": {
      "text/plain": [
       "'1,234'"
      ]
     },
     "execution_count": 5,
     "metadata": {},
     "output_type": "execute_result"
    }
   ],
   "source": [
    "reg1 = re.compile(r'^\\d{1,3}(,\\d{3})*$')\n",
    "mo1 = reg1.search('1,234')\n",
    "mo1.group()"
   ]
  },
  {
   "cell_type": "code",
   "execution_count": 6,
   "id": "2bf7dd2d-5bfb-4bf6-8b41-5beefbc95c8d",
   "metadata": {},
   "outputs": [
    {
     "data": {
      "text/plain": [
       "'6,368,745'"
      ]
     },
     "execution_count": 6,
     "metadata": {},
     "output_type": "execute_result"
    }
   ],
   "source": [
    "reg1 = re.compile(r'^\\d{1,3}(,\\d{3})*$')\n",
    "mo1 = reg1.search('6,368,745')\n",
    "mo1.group()"
   ]
  },
  {
   "cell_type": "markdown",
   "id": "3c5648e7-09b3-477d-b48d-30270d6aada1",
   "metadata": {},
   "source": [
    "21. How would you write a regex that matches the full name of someone whose last name is Watanabe? You can assume that the first name that comes before it will always be one word that begins with a capital letter. The regex must match the following:\n",
    "    \n",
    "'Haruto Watanabe'\n",
    "\n",
    "'Alice Watanabe'\n",
    "\n",
    "'RoboCop Watanabe'\n",
    "\n",
    "but not the following:\n",
    "\n",
    "'haruto Watanabe' (where the first name is not capitalized)\n",
    "\n",
    "'Mr. Watanabe' (where the preceding word has a nonletter character)\n",
    "\n",
    "'Watanabe' (which has no first name)"
   ]
  },
  {
   "cell_type": "code",
   "execution_count": null,
   "id": "cc4eaa47-1bf6-447b-a6a5-e6042563fde0",
   "metadata": {},
   "outputs": [],
   "source": [
    "name = re.compile(r'[A-Z][a-z]*\\sWatanabe')\n",
    "reg1 = re.compile(r'^\\d{1,3}(,\\d{haruto Watanabe3})*$')\n",
    "mo1 = name.search('Haruto Watanabe')\n",
    "mo1.group()"
   ]
  },
  {
   "cell_type": "code",
   "execution_count": 9,
   "id": "a9e871e4-d19c-4f08-a632-78e496193052",
   "metadata": {},
   "outputs": [
    {
     "data": {
      "text/plain": [
       "'Alice Watanabe'"
      ]
     },
     "execution_count": 9,
     "metadata": {},
     "output_type": "execute_result"
    }
   ],
   "source": [
    "name = re.compile(r'[A-Z][a-z]*\\sWatanabe')\n",
    "reg1 = re.compile(r'^\\d{1,3}(,\\d{haruto Watanabe3})*$')\n",
    "mo1 = name.search('Alice Watanabe')\n",
    "mo1.group()"
   ]
  },
  {
   "cell_type": "code",
   "execution_count": 8,
   "id": "c645f23c-5512-4184-bab8-6ea08f8f4c9c",
   "metadata": {},
   "outputs": [
    {
     "data": {
      "text/plain": [
       "'Cop Watanabe'"
      ]
     },
     "execution_count": 8,
     "metadata": {},
     "output_type": "execute_result"
    }
   ],
   "source": [
    "name = re.compile(r'[A-Z][a-z]*\\sWatanabe')\n",
    "reg1 = re.compile(r'^\\d{1,3}(,\\d{haruto Watanabe3})*$')\n",
    "mo1 = name.search('RoboCop Watanabe')\n",
    "mo1.group()"
   ]
  },
  {
   "cell_type": "markdown",
   "id": "8902b5aa-0d68-4b81-a20c-bebbe5a2042d",
   "metadata": {},
   "source": [
    "22. How would you write a regex that matches a sentence where the first word is either Alice, Bob, or Carol; the second word is either eats, pets, or throws; the third word is apples, cats, or baseballs; and the sentence ends with a period? This regex should be case-insensitive. It must match the following:\n",
    "    \n",
    "'Alice eats apples.'\n",
    "\n",
    "'Bob pets cats.'\n",
    "\n",
    "'Carol throws baseballs.'\n",
    "\n",
    "'Alice throws Apples.'\n",
    "\n",
    "'BOB EATS CATS.'\n",
    "\n",
    "but not the following:\n",
    "\n",
    "'RoboCop eats apples.'\n",
    "\n",
    "'ALICE THROWS FOOTBALLS.'\n",
    "\n",
    "'Carol eats 7 cats.'"
   ]
  },
  {
   "cell_type": "code",
   "execution_count": 10,
   "id": "85ce3b4e-eb85-4fd2-871e-e6099744ad6d",
   "metadata": {},
   "outputs": [
    {
     "data": {
      "text/plain": [
       "'Alice eats apples.'"
      ]
     },
     "execution_count": 10,
     "metadata": {},
     "output_type": "execute_result"
    }
   ],
   "source": [
    "\n",
    "name = re.compile(r'(Alice|Bob|Carol)\\s(eats|pets|throws)\\s(apples|cats|baseballs)\\.', re.IGNORECASE)\n",
    "\n",
    "mo1 = name.search('Alice eats apples.')\n",
    "mo1.group()"
   ]
  },
  {
   "cell_type": "code",
   "execution_count": 11,
   "id": "6f150e17-606f-4226-8585-572a2b586123",
   "metadata": {},
   "outputs": [
    {
     "data": {
      "text/plain": [
       "'Carol throws baseballs.'"
      ]
     },
     "execution_count": 11,
     "metadata": {},
     "output_type": "execute_result"
    }
   ],
   "source": [
    "\n",
    "name = re.compile(r'(Alice|Bob|Carol)\\s(eats|pets|throws)\\s(apples|cats|baseballs)\\.', re.IGNORECASE)\n",
    "\n",
    "mo1 = name.search('Carol throws baseballs.')\n",
    "mo1.group()"
   ]
  },
  {
   "cell_type": "code",
   "execution_count": null,
   "id": "a79860d5-6d60-4974-a9fa-db844dfdd92a",
   "metadata": {},
   "outputs": [],
   "source": []
  }
 ],
 "metadata": {
  "kernelspec": {
   "display_name": "Python 3 (ipykernel)",
   "language": "python",
   "name": "python3"
  },
  "language_info": {
   "codemirror_mode": {
    "name": "ipython",
    "version": 3
   },
   "file_extension": ".py",
   "mimetype": "text/x-python",
   "name": "python",
   "nbconvert_exporter": "python",
   "pygments_lexer": "ipython3",
   "version": "3.11.7"
  }
 },
 "nbformat": 4,
 "nbformat_minor": 5
}
