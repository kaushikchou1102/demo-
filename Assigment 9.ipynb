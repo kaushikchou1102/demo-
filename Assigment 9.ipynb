{
 "cells": [
  {
   "cell_type": "markdown",
   "id": "98295d79-2b51-40b4-808a-c51c6f59a5b9",
   "metadata": {},
   "source": [
    "1. To what does a relative path refer?\n"
   ]
  },
  {
   "cell_type": "markdown",
   "id": "be4bb05d-5b09-44a5-8220-1621341affaa",
   "metadata": {},
   "source": [
    "Ans \n",
    "\n",
    "A relative path describes the location of a file relative to the current (working) directory*. "
   ]
  },
  {
   "cell_type": "markdown",
   "id": "85b160a3-430b-4bcd-9932-63bb4f230c5c",
   "metadata": {},
   "source": [
    "2. What does an absolute path start with your operating system?\n"
   ]
  },
  {
   "cell_type": "markdown",
   "id": "6c051540-a364-437e-8f1b-1614667f2c8f",
   "metadata": {},
   "source": [
    "Ans \n",
    "\n",
    "Windows = An absolute path in Windows starts with a drive letter followed by a colon and a backslash (\\).\n",
    "\n",
    "Unix-like Systems (Linux, macOS) = An absolute path in Unix-like systems starts with a forward slash (/). Examples:"
   ]
  },
  {
   "cell_type": "markdown",
   "id": "ef5d72a7-9a61-490b-9ecd-d068f093e382",
   "metadata": {},
   "source": [
    "3. What do the functions os.getcwd() and os.chdir() do?\n"
   ]
  },
  {
   "cell_type": "markdown",
   "id": "c3d2a62c-9425-4553-b47a-db28e44e913d",
   "metadata": {},
   "source": [
    "Ans\n",
    "\n",
    "The os. chdir() method changes the current working directory to a specific path.\n",
    "\n",
    "The current working directory can be printed using the os. getcwd() method."
   ]
  },
  {
   "cell_type": "markdown",
   "id": "20e65bb6-6c7d-4f17-b0fa-0c9d34a8296a",
   "metadata": {},
   "source": [
    "4. What are the . and .. folders?\n"
   ]
  },
  {
   "cell_type": "markdown",
   "id": "451a6756-b0c8-4eee-917e-f9a8e2d78d9f",
   "metadata": {},
   "source": [
    "Ans\n",
    "\n",
    ". (Dot): Refers to the current directory.\n",
    "\n",
    ".. (Double Dot): Refers to the parent directory."
   ]
  },
  {
   "cell_type": "markdown",
   "id": "2b6540cd-031f-49d2-ade8-883aa9b9e621",
   "metadata": {},
   "source": [
    "5. In C:\\bacon\\eggs\\spam.txt, which part is the dir name, and which part is the base name?\n"
   ]
  },
  {
   "cell_type": "markdown",
   "id": "a2a44b39-5701-40e1-bc7d-fafd01e9ca20",
   "metadata": {},
   "source": [
    "Ans\n",
    "\n",
    "Dir name: C:\\bacon\\eggs\n",
    "\n",
    "Base name: spam.txt"
   ]
  },
  {
   "cell_type": "markdown",
   "id": "c1176dd9-f637-4cbb-810a-3fe0928fd839",
   "metadata": {},
   "source": [
    "6. What are the three “mode” arguments that can be passed to the open() function?\n"
   ]
  },
  {
   "cell_type": "markdown",
   "id": "8df1ddec-2d67-4e5f-b277-57283bace1c5",
   "metadata": {},
   "source": [
    "Ans \n",
    "\n",
    "r = Read mode\n",
    "\n",
    "w = Write mode\n",
    "\n",
    "a = Append mode"
   ]
  },
  {
   "cell_type": "markdown",
   "id": "f1492c87-e8bf-451b-9a80-6edcf26148e2",
   "metadata": {},
   "source": [
    "7. What happens if an existing file is opened in write mode?\n"
   ]
  },
  {
   "cell_type": "markdown",
   "id": "44bf7330-5b07-4fa5-96ea-194b3db5e61c",
   "metadata": {},
   "source": [
    "Ans \n",
    "\n",
    "its contents are discarded and the file is treated as a new empty file."
   ]
  },
  {
   "cell_type": "markdown",
   "id": "1342c17e-e300-4017-8ce5-97a9bd0b6fa0",
   "metadata": {},
   "source": [
    "8. How do you tell the difference between read() and readlines()?\n"
   ]
  },
  {
   "cell_type": "markdown",
   "id": "cbf26545-88d5-41ed-8074-64c86e05a3de",
   "metadata": {},
   "source": [
    "Ans\n",
    "\n",
    "the `read()` method is used to read a specified number of characters from a file or input stream, \n",
    "\n",
    "while the `readline()` method is used to read a single line from a file or input stream."
   ]
  },
  {
   "cell_type": "markdown",
   "id": "c400731a-e500-4b32-85a2-1139eb6b77dd",
   "metadata": {},
   "source": [
    "9. What data structure does a shelf value resemble?\n"
   ]
  },
  {
   "cell_type": "markdown",
   "id": "9b968fdb-a37b-49bb-bb53-04e5c23df4af",
   "metadata": {},
   "source": [
    "Ans \n",
    "\n",
    "the data structure that a shelf most resembles is an array or stack."
   ]
  },
  {
   "cell_type": "code",
   "execution_count": null,
   "id": "efc63b20-bd9d-4760-96c2-174d54dd4bf5",
   "metadata": {},
   "outputs": [],
   "source": []
  }
 ],
 "metadata": {
  "kernelspec": {
   "display_name": "Python 3 (ipykernel)",
   "language": "python",
   "name": "python3"
  },
  "language_info": {
   "codemirror_mode": {
    "name": "ipython",
    "version": 3
   },
   "file_extension": ".py",
   "mimetype": "text/x-python",
   "name": "python",
   "nbconvert_exporter": "python",
   "pygments_lexer": "ipython3",
   "version": "3.11.7"
  }
 },
 "nbformat": 4,
 "nbformat_minor": 5
}
