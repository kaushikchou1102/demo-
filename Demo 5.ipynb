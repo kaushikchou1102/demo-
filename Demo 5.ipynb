{
 "cells": [
  {
   "cell_type": "code",
   "execution_count": 5,
   "id": "007f972a-eac7-482a-a467-350f34a20b98",
   "metadata": {},
   "outputs": [
    {
     "name": "stdout",
     "output_type": "stream",
     "text": [
      "False\n"
     ]
    }
   ],
   "source": [
    "s = \"hello world\"\n",
    "print(s.startswith('ello')) "
   ]
  },
  {
   "cell_type": "code",
   "execution_count": 10,
   "id": "475ed891-f9fb-4d8c-a120-f30b8396e12a",
   "metadata": {},
   "outputs": [
    {
     "name": "stdout",
     "output_type": "stream",
     "text": [
      "Hello\n"
     ]
    }
   ],
   "source": [
    "s = \"Hello@@@@##$\"\n",
    "print(s.strip(\"@#$\"))"
   ]
  },
  {
   "cell_type": "code",
   "execution_count": 4,
   "id": "48a18320-6612-423a-a6a1-c567b8f91c29",
   "metadata": {},
   "outputs": [
    {
     "name": "stdout",
     "output_type": "stream",
     "text": [
      "hELLO wORLD\n"
     ]
    }
   ],
   "source": [
    "s = \"Hello World\"\n",
    "print(s.swapcase())"
   ]
  },
  {
   "cell_type": "code",
   "execution_count": 17,
   "id": "c7568f81-69d4-4c1d-a15a-131d1d3bed30",
   "metadata": {},
   "outputs": [
    {
     "name": "stdout",
     "output_type": "stream",
     "text": [
      "042\n"
     ]
    }
   ],
   "source": [
    "s = \"42\"\n",
    "print(s.zfill(3))"
   ]
  },
  {
   "cell_type": "code",
   "execution_count": 1,
   "id": "b660abde-a9cf-4bab-b03f-5e334d2a8474",
   "metadata": {},
   "outputs": [
    {
     "name": "stdout",
     "output_type": "stream",
     "text": [
      "(1, 2, 3)\n",
      "c\n"
     ]
    }
   ],
   "source": [
    "tuple1 = (1, 2, 3)\n",
    "tuple2 = ('a', 'b', 'c')\n",
    "nested_tuple = (tuple1, tuple2)\n",
    "\n",
    "# Accessing elements in nested tuple\n",
    "print(nested_tuple[0])          \n",
    "print(nested_tuple[1][2]) "
   ]
  },
  {
   "cell_type": "code",
   "execution_count": 5,
   "id": "306e8b13-d8d6-4fc3-b9db-04f72e9eeef9",
   "metadata": {},
   "outputs": [
    {
     "name": "stdout",
     "output_type": "stream",
     "text": [
      "Doe\n"
     ]
    }
   ],
   "source": [
    "my_tuple = ('John', 'Doe', 30, 50)\n",
    "\n",
    "# Unpacking tuple into variables\n",
    "\n",
    "\n",
    "print(my_tuple[1])    \n",
    " "
   ]
  },
  {
   "cell_type": "code",
   "execution_count": 6,
   "id": "e0327dc9-3e10-455d-9ca2-a410b6c71b65",
   "metadata": {},
   "outputs": [
    {
     "name": "stdout",
     "output_type": "stream",
     "text": [
      "3\n"
     ]
    }
   ],
   "source": [
    "my_tuple = (1, 2, 2, 3, 4, 2)\n",
    "\n",
    "# Using count method\n",
    "print(my_tuple.count(2))"
   ]
  },
  {
   "cell_type": "code",
   "execution_count": 11,
   "id": "64391e13-1c0b-4040-80a3-de7f6398afcc",
   "metadata": {},
   "outputs": [
    {
     "name": "stdout",
     "output_type": "stream",
     "text": [
      "0\n"
     ]
    }
   ],
   "source": [
    "print(my_tuple.index(1))"
   ]
  },
  {
   "cell_type": "code",
   "execution_count": 12,
   "id": "aa94031c-0358-4cbc-8e91-16984b176d13",
   "metadata": {},
   "outputs": [
    {
     "name": "stdin",
     "output_type": "stream",
     "text": [
      "name: kaushik\n",
      "age: 23\n",
      "price: 23\n"
     ]
    },
    {
     "name": "stdout",
     "output_type": "stream",
     "text": [
      "my name is kaushik and i am  23 year old\n"
     ]
    }
   ],
   "source": [
    "name=input(\"name:\")\n",
    "age=int(input(\"age:\"))\n",
    "price=float(input(\"price:\"))\n",
    "print(\"my name is\",name,\"and i am \",age,\"year old\")"
   ]
  },
  {
   "cell_type": "code",
   "execution_count": 1,
   "id": "8714ddfa-eff2-4dc9-86f6-1df2ae655dc8",
   "metadata": {},
   "outputs": [
    {
     "name": "stdout",
     "output_type": "stream",
     "text": [
      "do not perform this task\n"
     ]
    }
   ],
   "source": [
    "lis=[1,2,3,4,5,6]\n",
    "if 60 in lis:\n",
    "    print(\"try to perform a task\")\n",
    "else:\n",
    "    print(\"do not perform this task\")"
   ]
  },
  {
   "cell_type": "code",
   "execution_count": 9,
   "id": "9b4a7416-45a5-4fcc-b60f-b2aa2a9856e9",
   "metadata": {},
   "outputs": [
    {
     "name": "stdin",
     "output_type": "stream",
     "text": [
      "Enter an integer\n",
      " 5\n"
     ]
    },
    {
     "name": "stdout",
     "output_type": "stream",
     "text": [
      "1\n"
     ]
    }
   ],
   "source": [
    "import numpy as np\n",
    "import random \n",
    "np.random.randint(1,10)\n",
    "rand_var = random.randint(1,10)\n",
    "\n",
    "guess = int(input(\"Enter an integer\\n\"))\n",
    "\n",
    "if guess == rand_var:\n",
    "    print(\"we guess correct value\")\n",
    "    \n",
    "print(rand_var)  "
   ]
  },
  {
   "cell_type": "code",
   "execution_count": 10,
   "id": "bd172752-eb8f-4108-a2d4-ce72d8263310",
   "metadata": {},
   "outputs": [
    {
     "name": "stdin",
     "output_type": "stream",
     "text": [
      "Enter an integer\n",
      " 8\n"
     ]
    },
    {
     "name": "stdout",
     "output_type": "stream",
     "text": [
      "1\n"
     ]
    }
   ],
   "source": [
    "import numpy as np\n",
    "import random \n",
    "np.random.randint(1,10)\n",
    "rand_var = random.randint(1,10)\n",
    "\n",
    "guess = int(input(\"Enter an integer\\n\"))\n",
    "\n",
    "if guess == rand_var:\n",
    "    print(\"we guess correct value\")\n",
    "    \n",
    "print(rand_var)  "
   ]
  },
  {
   "cell_type": "code",
   "execution_count": 18,
   "id": "621b094d-6055-4b0e-aea5-a9b903c73d92",
   "metadata": {},
   "outputs": [
    {
     "name": "stdin",
     "output_type": "stream",
     "text": [
      "Enter an interger\n",
      " 25\n"
     ]
    },
    {
     "name": "stdout",
     "output_type": "stream",
     "text": [
      "guess number is greter than random vaiable\n"
     ]
    }
   ],
   "source": [
    "rand_var=23\n",
    "guess=int(input(\"Enter an interger\\n\"))\n",
    "if guess==rand_var:\n",
    "    print(\"we guess correct value\")\n",
    "elif guess>rand_var:\n",
    "    print(\"guess number is greter than random vaiable\")\n",
    "else:\n",
    "    print(\"keep trying\")\n",
    "    print(rand_var)"
   ]
  },
  {
   "cell_type": "code",
   "execution_count": 34,
   "id": "e9fb4094-94ac-4e21-b11a-1687052dc1e1",
   "metadata": {},
   "outputs": [
    {
     "name": "stdin",
     "output_type": "stream",
     "text": [
      "enter the marks 92\n"
     ]
    },
    {
     "name": "stdout",
     "output_type": "stream",
     "text": [
      "you got distinction!\n"
     ]
    }
   ],
   "source": [
    "mark=int(input(\"enter the marks\"))\n",
    "\n",
    "if mark<0 or mark>100:\n",
    "    print(\"inavlid marks are entered\")\n",
    "elif mark>=0 and mark<=35:\n",
    "    print(\"sorry you failed\")\n",
    "elif mark>=36 and mark<=60:\n",
    "    print(\"you passed in second class\")\n",
    "elif mark>=61 and mark<=80:\n",
    "    print(\"you passe in first class\")\n",
    "else:\n",
    "    print(\"you got distinction!\")\n",
    "    "
   ]
  },
  {
   "cell_type": "code",
   "execution_count": 36,
   "id": "aba0fee5-0208-4b56-9861-917aadda79c1",
   "metadata": {},
   "outputs": [
    {
     "name": "stdin",
     "output_type": "stream",
     "text": [
      "enter the numbe  4\n"
     ]
    },
    {
     "name": "stdout",
     "output_type": "stream",
     "text": [
      "4 is even number\n"
     ]
    }
   ],
   "source": [
    "number=int(input(\"enter the numbe \"))\n",
    "if number % 2 ==0:\n",
    "    print(number,\"is even number\")\n",
    "else :\n",
    "    print(number,\"is odd number\")\n"
   ]
  },
  {
   "cell_type": "code",
   "execution_count": 56,
   "id": "c68f7529-a4b3-4569-b0b6-b71d233a0204",
   "metadata": {},
   "outputs": [
    {
     "name": "stdin",
     "output_type": "stream",
     "text": [
      "Enter first number \n",
      " 45\n",
      "Enter second number \n",
      " 45\n"
     ]
    },
    {
     "name": "stdout",
     "output_type": "stream",
     "text": [
      "number is equal\n"
     ]
    }
   ],
   "source": [
    "number1 = int(input(\"Enter first number \\n\"))\n",
    "number2 = int(input(\"Enter second number \\n\"))\n",
    "\n",
    "if number1 > number2:\n",
    "    print(\"First number is bigger than second\")\n",
    "elif number1 < number2:\n",
    "    print(\"First number is smaller than second\")\n",
    "elif number1 == number2:\n",
    "    print(\"number is equal\")\n"
   ]
  },
  {
   "cell_type": "code",
   "execution_count": null,
   "id": "5e3b20fc-dbfb-490c-963a-88d58845705a",
   "metadata": {},
   "outputs": [],
   "source": []
  },
  {
   "cell_type": "code",
   "execution_count": null,
   "id": "e94b2678-dca7-440b-8a5f-2859130bda4c",
   "metadata": {},
   "outputs": [],
   "source": [
    "\n"
   ]
  },
  {
   "cell_type": "code",
   "execution_count": null,
   "id": "f72af500-ceda-4258-b207-0c9160eed9f6",
   "metadata": {},
   "outputs": [],
   "source": []
  }
 ],
 "metadata": {
  "kernelspec": {
   "display_name": "Python 3 (ipykernel)",
   "language": "python",
   "name": "python3"
  },
  "language_info": {
   "codemirror_mode": {
    "name": "ipython",
    "version": 3
   },
   "file_extension": ".py",
   "mimetype": "text/x-python",
   "name": "python",
   "nbconvert_exporter": "python",
   "pygments_lexer": "ipython3",
   "version": "3.11.7"
  }
 },
 "nbformat": 4,
 "nbformat_minor": 5
}
