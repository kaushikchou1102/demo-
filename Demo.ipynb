{
 "cells": [
  {
   "cell_type": "code",
   "execution_count": 22,
   "id": "5c27d0aa-faf3-45cc-a25c-3ec920b1d5a7",
   "metadata": {},
   "outputs": [],
   "source": [
    "#2. Sequence Types\n",
    "\t\t#a. String (str)\n",
    "\t\t#Strings are sequences of characters enclosed in quotes (single, double, or triple).\n",
    "\t\t# Example of strings\n",
    "name = \"Alice\"\n",
    "message = 'Hello, World!'\n",
    "multiline_string = \"\"\"\n",
    "\t\t       Hello,\n",
    "\t\t       Python!\"\"\"\n"
   ]
  },
  {
   "cell_type": "code",
   "execution_count": 24,
   "id": "91df94e8-e855-42c5-a08d-22d1f223e275",
   "metadata": {},
   "outputs": [
    {
     "data": {
      "text/plain": [
       "'Alice'"
      ]
     },
     "execution_count": 24,
     "metadata": {},
     "output_type": "execute_result"
    }
   ],
   "source": [
    "name\n"
   ]
  },
  {
   "cell_type": "code",
   "execution_count": 25,
   "id": "db5477c1-0a36-4f1d-be87-6226c2c44633",
   "metadata": {},
   "outputs": [
    {
     "data": {
      "text/plain": [
       "'\\n\\t\\t       Hello,\\n\\t\\t       Python!'"
      ]
     },
     "execution_count": 25,
     "metadata": {},
     "output_type": "execute_result"
    }
   ],
   "source": [
    "multiline_string "
   ]
  },
  {
   "cell_type": "code",
   "execution_count": 7,
   "id": "6d43a498-1b4f-4a7b-838e-f94e2834ff3d",
   "metadata": {},
   "outputs": [],
   "source": [
    "#b. List (list)\n",
    "\t\t#Lists are ordered collections of items. They are mutable (changeable) and can contain elements of different data types.\n",
    "\n",
    "\t\t# Example of lists\n",
    "fruits = [\"apple\", \"banana\", \"cherry\"]\n",
    "numbers = [1, 2, 3, 4, 5]\n",
    "mixed_list = [1, \"apple\", True]\n"
   ]
  },
  {
   "cell_type": "code",
   "execution_count": 8,
   "id": "75c2d568-5635-4afd-bd70-468f79791943",
   "metadata": {},
   "outputs": [
    {
     "data": {
      "text/plain": [
       "['apple', 'banana', 'cherry']"
      ]
     },
     "execution_count": 8,
     "metadata": {},
     "output_type": "execute_result"
    }
   ],
   "source": [
    "fruits"
   ]
  },
  {
   "cell_type": "code",
   "execution_count": 9,
   "id": "08911ec3-7274-429f-a38f-e42adcba3b26",
   "metadata": {},
   "outputs": [
    {
     "data": {
      "text/plain": [
       "[1, 2, 3, 4, 5]"
      ]
     },
     "execution_count": 9,
     "metadata": {},
     "output_type": "execute_result"
    }
   ],
   "source": [
    "numbers"
   ]
  },
  {
   "cell_type": "code",
   "execution_count": 10,
   "id": "7a13cbb2-418b-4923-852e-0ec8718daad2",
   "metadata": {},
   "outputs": [
    {
     "data": {
      "text/plain": [
       "[1, 'apple', True]"
      ]
     },
     "execution_count": 10,
     "metadata": {},
     "output_type": "execute_result"
    }
   ],
   "source": [
    "mixed_list"
   ]
  },
  {
   "cell_type": "code",
   "execution_count": 12,
   "id": "b1e084b9-87a6-4394-9775-ca6e56eefc7c",
   "metadata": {},
   "outputs": [],
   "source": [
    "#2. Sequence Types\n",
    "\t\t#a. String (str)\n",
    "\t\t#Strings are sequences of characters enclosed in quotes (single, double, or triple).\n",
    "\t\t# Example of strings\n",
    "name = \"Alice\"\n",
    "message = 'Hello, World!'\n",
    "multiline_string = \"\"\"\n",
    "\t\t       Hello,\n",
    "\t\t       Python!\"\"\"\n"
   ]
  },
  {
   "cell_type": "code",
   "execution_count": 14,
   "id": "cc99b23d-2dac-4811-b0d2-8f54107194b6",
   "metadata": {},
   "outputs": [
    {
     "data": {
      "text/plain": [
       "'Alice'"
      ]
     },
     "execution_count": 14,
     "metadata": {},
     "output_type": "execute_result"
    }
   ],
   "source": [
    "name\n"
   ]
  },
  {
   "cell_type": "code",
   "execution_count": 15,
   "id": "dbc58a06-4958-4ea7-82dd-3913b858ce0f",
   "metadata": {},
   "outputs": [
    {
     "name": "stdout",
     "output_type": "stream",
     "text": [
      "(1, 2, 3)\n"
     ]
    }
   ],
   "source": [
    "tpl = tuple([1, 2, 3])\n",
    "print(tpl)  # Output: (1, 2, 3)\n"
   ]
  },
  {
   "cell_type": "code",
   "execution_count": 19,
   "id": "f752dc1f-d6df-444a-b341-79abbf93ac57",
   "metadata": {},
   "outputs": [
    {
     "name": "stdout",
     "output_type": "stream",
     "text": [
      "My name is Bob and I am 25 years old.\n"
     ]
    }
   ],
   "source": [
    "name = \"Bob\"\n",
    "age = 25\n",
    "formatted_string = \"My name is {} and I am {} years old.\".format(name , age)\n",
    "print(formatted_string)  # Output: 'My name is Bob and I am 25 years old.'\n"
   ]
  },
  {
   "cell_type": "code",
   "execution_count": 20,
   "id": "98541638-0215-4080-b8e9-abed2d0f08cd",
   "metadata": {},
   "outputs": [
    {
     "name": "stdout",
     "output_type": "stream",
     "text": [
      "My name is Bob and I am 25 years old.\n"
     ]
    }
   ],
   "source": [
    "name = \"Bob\"\n",
    "age = 25\n",
    "formatted_string = \"My name is {} and I am {} years old.\".format(name , age)\n",
    "print(formatted_string)  # Output: 'My name is Bob and I am 25 years old.'"
   ]
  },
  {
   "cell_type": "code",
   "execution_count": 1,
   "id": "c842ad81-b9a1-478d-b4aa-c67e003cfd3b",
   "metadata": {},
   "outputs": [],
   "source": [
    "age = 25\n",
    "count = -10"
   ]
  },
  {
   "cell_type": "code",
   "execution_count": 2,
   "id": "ad75add2-f268-4318-ab40-131629487afb",
   "metadata": {},
   "outputs": [
    {
     "data": {
      "text/plain": [
       "-10"
      ]
     },
     "execution_count": 2,
     "metadata": {},
     "output_type": "execute_result"
    }
   ],
   "source": [
    "count\n"
   ]
  },
  {
   "cell_type": "code",
   "execution_count": 7,
   "id": "442d3641-50de-4017-a0a2-53cd08ba2956",
   "metadata": {},
   "outputs": [
    {
     "data": {
      "text/plain": [
       "25"
      ]
     },
     "execution_count": 7,
     "metadata": {},
     "output_type": "execute_result"
    }
   ],
   "source": [
    "age"
   ]
  },
  {
   "cell_type": "code",
   "execution_count": 4,
   "id": "9cc790b2-68cb-4b4f-a3b6-309a791d1829",
   "metadata": {},
   "outputs": [
    {
     "name": "stdout",
     "output_type": "stream",
     "text": [
      "-10\n"
     ]
    }
   ],
   "source": [
    "print(count)"
   ]
  },
  {
   "cell_type": "code",
   "execution_count": 8,
   "id": "7f0a2b84-45fd-4d51-8294-bc2357bccab4",
   "metadata": {},
   "outputs": [
    {
     "data": {
      "text/plain": [
       "25"
      ]
     },
     "execution_count": 8,
     "metadata": {},
     "output_type": "execute_result"
    }
   ],
   "source": [
    "age"
   ]
  },
  {
   "cell_type": "code",
   "execution_count": 6,
   "id": "226fcef3-a0fa-4aa3-92bd-f4f81517c707",
   "metadata": {},
   "outputs": [
    {
     "data": {
      "text/plain": [
       "int"
      ]
     },
     "execution_count": 6,
     "metadata": {},
     "output_type": "execute_result"
    }
   ],
   "source": [
    "type(age)"
   ]
  },
  {
   "cell_type": "code",
   "execution_count": 9,
   "id": "96943092-be7d-4ab5-a715-8e249bc4aeae",
   "metadata": {},
   "outputs": [],
   "source": [
    "height = 5.8\n",
    "pi = 3.14159"
   ]
  },
  {
   "cell_type": "code",
   "execution_count": 12,
   "id": "9d292a3e-356d-462c-85bf-cc379c1e4aed",
   "metadata": {},
   "outputs": [
    {
     "name": "stdout",
     "output_type": "stream",
     "text": [
      "5.8\n"
     ]
    }
   ],
   "source": [
    "print(height)"
   ]
  },
  {
   "cell_type": "code",
   "execution_count": 11,
   "id": "eaf43a25-d005-4749-a4bb-5559a476754a",
   "metadata": {},
   "outputs": [
    {
     "data": {
      "text/plain": [
       "3.14159"
      ]
     },
     "execution_count": 11,
     "metadata": {},
     "output_type": "execute_result"
    }
   ],
   "source": [
    "pi"
   ]
  },
  {
   "cell_type": "code",
   "execution_count": 15,
   "id": "1c31f584-7103-4912-8d1e-ace88801118a",
   "metadata": {},
   "outputs": [
    {
     "name": "stdout",
     "output_type": "stream",
     "text": [
      "3.14159\n"
     ]
    }
   ],
   "source": [
    "print(pi)"
   ]
  },
  {
   "cell_type": "code",
   "execution_count": 18,
   "id": "8a1f4841-3a29-4b6a-accb-c03569ca9503",
   "metadata": {},
   "outputs": [],
   "source": [
    "z = 3 + 4j"
   ]
  },
  {
   "cell_type": "code",
   "execution_count": 2,
   "id": "513ed39e-a530-4f3a-8f83-cb4f767d3d0c",
   "metadata": {},
   "outputs": [],
   "source": [
    "# Example of booleans\n",
    "is_student = True\n",
    "is_adult = False\n",
    "#Practical Example:\n",
    "\t\t#Let's use these data types in a practical example to showcase their usage:\n",
    "# Define variables of different data types\n",
    "name = \"Alice\"  # string\n",
    "age = 25  # integer\n",
    "height = 5.8  # float\n",
    "coordinates = (3, 4)  # tuple\n",
    "grades = {\"Math\": 85, \"Science\": 90, \"History\": 88}  # dictionary"
   ]
  },
  {
   "cell_type": "code",
   "execution_count": 3,
   "id": "d6e15a13-8493-4405-9e02-a47cbc855de8",
   "metadata": {},
   "outputs": [
    {
     "name": "stdout",
     "output_type": "stream",
     "text": [
      "Student Name: Alice\n",
      "Age: 25\n",
      "Height: 5.8 feet\n",
      "Coordinates: (3, 4)\n",
      "Grades: {'Math': 85, 'Science': 90, 'History': 88}\n"
     ]
    }
   ],
   "source": [
    "# Print information using these variables\n",
    "print(f\"Student Name: {name}\")\n",
    "print(f\"Age: {age}\")\n",
    "print(f\"Height: {height} feet\")\n",
    "print(f\"Coordinates: {coordinates}\")\n",
    "print(\"Grades:\", grades)"
   ]
  },
  {
   "cell_type": "code",
   "execution_count": 4,
   "id": "a5db850d-732c-4c94-a932-2399d99504f0",
   "metadata": {},
   "outputs": [
    {
     "data": {
      "text/plain": [
       "{'Math': 85, 'Science': 90, 'History': 88}"
      ]
     },
     "execution_count": 4,
     "metadata": {},
     "output_type": "execute_result"
    }
   ],
   "source": [
    "grades"
   ]
  },
  {
   "cell_type": "code",
   "execution_count": 5,
   "id": "248e911b-01e8-40bb-92b2-a0ccf2db4343",
   "metadata": {},
   "outputs": [
    {
     "name": "stdout",
     "output_type": "stream",
     "text": [
      "Student Name: Alice\n"
     ]
    }
   ],
   "source": [
    "print(f\"Student Name: {name}\")"
   ]
  },
  {
   "cell_type": "code",
   "execution_count": 8,
   "id": "f0db39d7-0ce1-4e52-98f3-8026f2b26721",
   "metadata": {},
   "outputs": [
    {
     "name": "stdout",
     "output_type": "stream",
     "text": [
      "19\n",
      "11\n",
      "3.75\n",
      "3\n"
     ]
    }
   ],
   "source": [
    "a = 15\n",
    "b = 4\n",
    "print(a+b)\n",
    "print(a-b)\n",
    "print(a/b)\n",
    "print(a//b)"
   ]
  },
  {
   "cell_type": "code",
   "execution_count": 9,
   "id": "6e7ca2e3-b1ff-4a3e-907b-4b06022501b7",
   "metadata": {},
   "outputs": [
    {
     "name": "stdout",
     "output_type": "stream",
     "text": [
      "True\n"
     ]
    }
   ],
   "source": [
    "a =3\n",
    "b = 5\n",
    "result = a <= b  \n",
    "print(result) "
   ]
  },
  {
   "cell_type": "code",
   "execution_count": 14,
   "id": "f272e160-9ebb-463d-9742-f0f648697035",
   "metadata": {},
   "outputs": [
    {
     "name": "stdout",
     "output_type": "stream",
     "text": [
      "Equal: False\n",
      "Not Equal: True\n",
      "Greater Than: True\n",
      "Less Than: False\n",
      "Greater Than or Equal: True\n",
      "Less Than or Equal: False\n"
     ]
    }
   ],
   "source": [
    "x = 10\n",
    "y = 5\n",
    "\n",
    "equal = x == y            # False\n",
    "not_equal = x != y        # True\n",
    "greater_than = x > y      # True\n",
    "less_than = x < y         # False\n",
    "greater_than_or_equal = x >= y  # True\n",
    "less_than_or_equal = x <= y     # False\n",
    "\n",
    "# Print results\n",
    "print(f\"Equal: {equal}\")\n",
    "print(f\"Not Equal: {not_equal}\")\n",
    "print(f\"Greater Than: {greater_than}\")\n",
    "print(f\"Less Than: {less_than}\")\n",
    "print(f\"Greater Than or Equal: {greater_than_or_equal}\")\n",
    "print(f\"Less Than or Equal: {less_than_or_equal}\")"
   ]
  },
  {
   "cell_type": "code",
   "execution_count": 17,
   "id": "5210bfef-e5fd-4865-9220-9160b3ed821f",
   "metadata": {},
   "outputs": [
    {
     "name": "stdout",
     "output_type": "stream",
     "text": [
      "True\n"
     ]
    }
   ],
   "source": [
    "x = 5\n",
    "y = 10\n",
    "z = 15\n",
    "result = x < y < z\n",
    "print(result)"
   ]
  },
  {
   "cell_type": "code",
   "execution_count": 26,
   "id": "1520d85b-63ff-4bc5-bd83-06ea85d7c7a3",
   "metadata": {},
   "outputs": [
    {
     "name": "stdout",
     "output_type": "stream",
     "text": [
      "True\n",
      "False\n",
      "True\n",
      "False\n"
     ]
    }
   ],
   "source": [
    "list_example = [1, 2, 3, 4, 5]\n",
    "\n",
    "print(2 in list_example)  # Output: True\n",
    "print(6 in list_example)  # Output: False\n",
    "\n",
    "string_example = \"Hello, World!\"\n",
    "\n",
    "print(\"Hello\" in string_example)  # Output: True\n",
    "print(\"Python\" in string_example)  # Output: False"
   ]
  },
  {
   "cell_type": "code",
   "execution_count": 35,
   "id": "109a6050-0085-4a56-9068-2ddda2efa4cd",
   "metadata": {},
   "outputs": [
    {
     "name": "stdout",
     "output_type": "stream",
     "text": [
      "True\n",
      "True\n",
      "False\n",
      "False\n"
     ]
    }
   ],
   "source": [
    "#The `not in` operator is the negation of the `in` operator. It returns `True` if a specified value is not found within the sequence.\n",
    "\n",
    "list_example = [1, 2, 3, 4, 5]\n",
    "\n",
    "print(6 not in list_example)  # Output: True\n",
    "print(2 in list_example)  # Output: False\n",
    "\n",
    "string_example = \"Hello, World!\"\n",
    "\n",
    "print(\"World!\" not in string_example)  # Output: True\n",
    "print(\"Hello\" not in string_example)  # Output: False"
   ]
  },
  {
   "cell_type": "code",
   "execution_count": 36,
   "id": "1256608b-3575-4ef4-a76c-028e967aaca7",
   "metadata": {},
   "outputs": [],
   "source": [
    "# Example of variable assignment\n",
    "age = 25\n",
    "name = \"Alice\"\n",
    "is_student = True"
   ]
  },
  {
   "cell_type": "code",
   "execution_count": 39,
   "id": "9219117e-7eba-42c9-bf5e-18bb440b8f3f",
   "metadata": {},
   "outputs": [
    {
     "name": "stdout",
     "output_type": "stream",
     "text": [
      "25\n"
     ]
    }
   ],
   "source": [
    "print(age)"
   ]
  },
  {
   "cell_type": "code",
   "execution_count": 38,
   "id": "96b41552-6b03-4008-a54e-503f24678074",
   "metadata": {},
   "outputs": [
    {
     "name": "stdout",
     "output_type": "stream",
     "text": [
      "Alice\n"
     ]
    }
   ],
   "source": [
    "print(name)"
   ]
  },
  {
   "cell_type": "code",
   "execution_count": 40,
   "id": "d6d22bdb-4377-4467-9095-4db5978a8c00",
   "metadata": {},
   "outputs": [
    {
     "name": "stdout",
     "output_type": "stream",
     "text": [
      "25\n"
     ]
    }
   ],
   "source": [
    "print(age)"
   ]
  },
  {
   "cell_type": "code",
   "execution_count": 42,
   "id": "d1944374-e049-4b16-9329-739503623bcd",
   "metadata": {},
   "outputs": [
    {
     "name": "stdout",
     "output_type": "stream",
     "text": [
      "True\n"
     ]
    }
   ],
   "source": [
    "print(is_student)"
   ]
  },
  {
   "cell_type": "code",
   "execution_count": 43,
   "id": "38e64d19-65e7-46ac-a38e-b0f50645df3f",
   "metadata": {},
   "outputs": [
    {
     "data": {
      "text/plain": [
       "str"
      ]
     },
     "execution_count": 43,
     "metadata": {},
     "output_type": "execute_result"
    }
   ],
   "source": [
    "type(name)"
   ]
  },
  {
   "cell_type": "code",
   "execution_count": 44,
   "id": "9a945714-785e-41ab-8336-0b1ba873857c",
   "metadata": {},
   "outputs": [],
   "source": [
    "a, b, c = 30,20,10"
   ]
  },
  {
   "cell_type": "code",
   "execution_count": 45,
   "id": "e5bad150-ca4a-4386-b77d-e06421f7e562",
   "metadata": {},
   "outputs": [
    {
     "data": {
      "text/plain": [
       "20"
      ]
     },
     "execution_count": 45,
     "metadata": {},
     "output_type": "execute_result"
    }
   ],
   "source": [
    "b"
   ]
  },
  {
   "cell_type": "code",
   "execution_count": 46,
   "id": "dda379e3-2e52-4067-bd77-8386677ba4db",
   "metadata": {},
   "outputs": [
    {
     "name": "stdout",
     "output_type": "stream",
     "text": [
      "10\n"
     ]
    }
   ],
   "source": [
    "print(c)"
   ]
  },
  {
   "cell_type": "code",
   "execution_count": 47,
   "id": "a0a64de6-0bb6-4a28-be01-e90775b204da",
   "metadata": {},
   "outputs": [
    {
     "name": "stdout",
     "output_type": "stream",
     "text": [
      "10\n"
     ]
    }
   ],
   "source": [
    "value = 10\n",
    "value_str = str(value)\n",
    "print(value_str)  # Output: \"10\""
   ]
  },
  {
   "cell_type": "code",
   "execution_count": 48,
   "id": "133b6b8f-8f5d-4f45-8536-3a1465a62064",
   "metadata": {},
   "outputs": [
    {
     "data": {
      "text/plain": [
       "10"
      ]
     },
     "execution_count": 48,
     "metadata": {},
     "output_type": "execute_result"
    }
   ],
   "source": [
    "value"
   ]
  },
  {
   "cell_type": "code",
   "execution_count": 49,
   "id": "6651ff3e-ef29-4580-973a-d4ac419caa9e",
   "metadata": {},
   "outputs": [
    {
     "data": {
      "text/plain": [
       "'10'"
      ]
     },
     "execution_count": 49,
     "metadata": {},
     "output_type": "execute_result"
    }
   ],
   "source": [
    "value_str"
   ]
  },
  {
   "cell_type": "code",
   "execution_count": 50,
   "id": "9b574a8e-0bcc-4968-9d54-0ddabd53269b",
   "metadata": {},
   "outputs": [
    {
     "name": "stdout",
     "output_type": "stream",
     "text": [
      "10\n"
     ]
    }
   ],
   "source": [
    "print(value)"
   ]
  },
  {
   "cell_type": "code",
   "execution_count": 51,
   "id": "3ac02876-6e97-4269-b00d-5185638b54b8",
   "metadata": {},
   "outputs": [
    {
     "name": "stdout",
     "output_type": "stream",
     "text": [
      "'\\xe4\\xf6\\xfc'\n"
     ]
    }
   ],
   "source": [
    "s = \"äöü\"\n",
    "ascii_s = ascii(s)\n",
    "print(ascii_s)  # Output: '\\xe4\\xf6\\xfc'"
   ]
  },
  {
   "cell_type": "code",
   "execution_count": 52,
   "id": "e19a784e-494d-4488-a454-c386e60f9013",
   "metadata": {},
   "outputs": [
    {
     "name": "stdout",
     "output_type": "stream",
     "text": [
      "'\\xe4\\xf6\\xfc'\n"
     ]
    }
   ],
   "source": [
    "s = \"äöü\"\n",
    "ascii_s = ascii(s)\n",
    "print(ascii_s)  # Output: '\\xe4\\xf6\\xfc'"
   ]
  },
  {
   "cell_type": "code",
   "execution_count": 53,
   "id": "468af20e-484e-469a-964c-e2f4b15d6cdf",
   "metadata": {},
   "outputs": [
    {
     "name": "stdout",
     "output_type": "stream",
     "text": [
      "False\n"
     ]
    }
   ],
   "source": [
    "bool_value = bool(0)\n",
    "print(bool_value)"
   ]
  },
  {
   "cell_type": "code",
   "execution_count": 54,
   "id": "c332431b-8329-4183-a574-d4fc008eb745",
   "metadata": {},
   "outputs": [
    {
     "name": "stdout",
     "output_type": "stream",
     "text": [
      ":\n"
     ]
    }
   ],
   "source": [
    "char = chr(58)\n",
    "\n",
    "print(char)"
   ]
  },
  {
   "cell_type": "code",
   "execution_count": 55,
   "id": "69d6f8fd-f2e8-4fb0-961a-68cd8efdb67f",
   "metadata": {},
   "outputs": [
    {
     "data": {
      "text/plain": [
       "['__add__',\n",
       " '__class__',\n",
       " '__class_getitem__',\n",
       " '__contains__',\n",
       " '__delattr__',\n",
       " '__dir__',\n",
       " '__doc__',\n",
       " '__eq__',\n",
       " '__format__',\n",
       " '__ge__',\n",
       " '__getattribute__',\n",
       " '__getitem__',\n",
       " '__getnewargs__',\n",
       " '__getstate__',\n",
       " '__gt__',\n",
       " '__hash__',\n",
       " '__init__',\n",
       " '__init_subclass__',\n",
       " '__iter__',\n",
       " '__le__',\n",
       " '__len__',\n",
       " '__lt__',\n",
       " '__mul__',\n",
       " '__ne__',\n",
       " '__new__',\n",
       " '__reduce__',\n",
       " '__reduce_ex__',\n",
       " '__repr__',\n",
       " '__rmul__',\n",
       " '__setattr__',\n",
       " '__sizeof__',\n",
       " '__str__',\n",
       " '__subclasshook__',\n",
       " 'count',\n",
       " 'index']"
      ]
     },
     "execution_count": 55,
     "metadata": {},
     "output_type": "execute_result"
    }
   ],
   "source": [
    "dir(tuple)"
   ]
  },
  {
   "cell_type": "code",
   "execution_count": 61,
   "id": "6a19e74e-a2f2-4aa0-9002-0ad7ebd64fed",
   "metadata": {},
   "outputs": [
    {
     "name": "stdout",
     "output_type": "stream",
     "text": [
      "(5, 5)\n"
     ]
    }
   ],
   "source": [
    "result = divmod(65, 12)\n",
    "print(result)"
   ]
  },
  {
   "cell_type": "code",
   "execution_count": 65,
   "id": "d95334e1-cd7a-44e3-92a9-57cc155f18ea",
   "metadata": {},
   "outputs": [
    {
     "name": "stdout",
     "output_type": "stream",
     "text": [
      "[(0, 'apple'), (1, 'banana'), (2, 'cherry'), (3, 'chiku')]\n"
     ]
    }
   ],
   "source": [
    "fruits = ['apple', 'banana', 'cherry', \"chiku\"]\n",
    "enum_obj = enumerate(fruits)\n",
    "print(list(enum_obj))"
   ]
  },
  {
   "cell_type": "code",
   "execution_count": 66,
   "id": "932f3c36-cbfe-412b-acce-c6784be82a93",
   "metadata": {},
   "outputs": [
    {
     "name": "stdout",
     "output_type": "stream",
     "text": [
      "15\n"
     ]
    }
   ],
   "source": [
    "x = 10\n",
    "result = eval('x + 5')\n",
    "print(result) "
   ]
  },
  {
   "cell_type": "code",
   "execution_count": 68,
   "id": "98899171-0910-414f-b3e6-b5da60e9a46e",
   "metadata": {},
   "outputs": [
    {
     "name": "stdout",
     "output_type": "stream",
     "text": [
      "[2, 4, 6, 8]\n"
     ]
    }
   ],
   "source": [
    "def is_even(num):\n",
    "    return num % 2 == 0\n",
    "\n",
    "numbers = [1, 2, 3, 4, 5, 6,7,8]\n",
    "filtered_nums = filter(is_even, numbers)\n",
    "print(list(filtered_nums))"
   ]
  },
  {
   "cell_type": "code",
   "execution_count": 73,
   "id": "160c29e6-f152-472d-ae47-c2e86b1bf401",
   "metadata": {},
   "outputs": [
    {
     "data": {
      "text/plain": [
       "True"
      ]
     },
     "execution_count": 73,
     "metadata": {},
     "output_type": "execute_result"
    }
   ],
   "source": [
    "is_even(6)"
   ]
  },
  {
   "cell_type": "code",
   "execution_count": 74,
   "id": "e653b4f6-49d7-4646-aa7a-087c3cf3fe50",
   "metadata": {},
   "outputs": [
    {
     "name": "stdout",
     "output_type": "stream",
     "text": [
      "97.000000%\n"
     ]
    }
   ],
   "source": [
    "formatted = format(0.97, '%')\n",
    "\n",
    "print(formatted)"
   ]
  },
  {
   "cell_type": "code",
   "execution_count": 1,
   "id": "3f425489-65a6-41f7-9cfb-9d019e4e36ab",
   "metadata": {},
   "outputs": [
    {
     "name": "stdin",
     "output_type": "stream",
     "text": [
      "Enter your name?  kaushik\n"
     ]
    },
    {
     "name": "stdout",
     "output_type": "stream",
     "text": [
      "Hello, kaushik\n"
     ]
    }
   ],
   "source": [
    "name = input(\"Enter your name? \")\n",
    "print(\"Hello, \" + name)"
   ]
  },
  {
   "cell_type": "code",
   "execution_count": null,
   "id": "a91d87a3-8644-4d8a-b7bc-353826808870",
   "metadata": {},
   "outputs": [],
   "source": [
    "int_num = int(10.00002)\n",
    "print(int_num)"
   ]
  },
  {
   "cell_type": "code",
   "execution_count": 3,
   "id": "5cec8951-ccbc-4ece-adb2-da39cb5c3313",
   "metadata": {},
   "outputs": [
    {
     "name": "stdin",
     "output_type": "stream",
     "text": [
      "enter our old age : 8\n"
     ]
    },
    {
     "name": "stdout",
     "output_type": "stream",
     "text": [
      "10\n"
     ]
    }
   ],
   "source": [
    "old_age=input(\"enter our old age :\")\n",
    "int(old_age)\n",
    "new_age =int(old_age)+2\n",
    "print(new_age)"
   ]
  },
  {
   "cell_type": "code",
   "execution_count": null,
   "id": "c5d25c57-e22f-4404-8dfc-6b93cda55cea",
   "metadata": {},
   "outputs": [],
   "source": []
  }
 ],
 "metadata": {
  "kernelspec": {
   "display_name": "Python 3 (ipykernel)",
   "language": "python",
   "name": "python3"
  },
  "language_info": {
   "codemirror_mode": {
    "name": "ipython",
    "version": 3
   },
   "file_extension": ".py",
   "mimetype": "text/x-python",
   "name": "python",
   "nbconvert_exporter": "python",
   "pygments_lexer": "ipython3",
   "version": "3.11.7"
  }
 },
 "nbformat": 4,
 "nbformat_minor": 5
}
