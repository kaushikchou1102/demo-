{
 "cells": [
  {
   "cell_type": "code",
   "execution_count": null,
   "id": "64babb69-e366-4ef0-8dc6-d62e2d01aa7b",
   "metadata": {},
   "outputs": [],
   "source": [
    "name=\"tony stark\"\n",
    "print(name.upper())"
   ]
  },
  {
   "cell_type": "code",
   "execution_count": null,
   "id": "d3cc2a5d-e524-4afe-8fc1-4469ec47237e",
   "metadata": {},
   "outputs": [],
   "source": [
    "name = \"'amit'\""
   ]
  },
  {
   "cell_type": "code",
   "execution_count": null,
   "id": "3e92e2d7-3a1d-4142-a047-82ecea86c6cd",
   "metadata": {},
   "outputs": [],
   "source": [
    "name"
   ]
  },
  {
   "cell_type": "code",
   "execution_count": 4,
   "id": "835f8dbe-8088-4c39-a9db-90e9fb8193eb",
   "metadata": {},
   "outputs": [],
   "source": [
    "name = \"'kaushik'\""
   ]
  },
  {
   "cell_type": "code",
   "execution_count": 5,
   "id": "531ab833-b0be-4ae5-9699-179fbd24e105",
   "metadata": {},
   "outputs": [
    {
     "data": {
      "text/plain": [
       "\"'kaushik'\""
      ]
     },
     "execution_count": 5,
     "metadata": {},
     "output_type": "execute_result"
    }
   ],
   "source": [
    "\n",
    "name"
   ]
  },
  {
   "cell_type": "code",
   "execution_count": 3,
   "id": "95c75b20-de29-4f6e-acbd-a8e87e27430f",
   "metadata": {},
   "outputs": [
    {
     "name": "stdout",
     "output_type": "stream",
     "text": [
      "TONY STARK\n"
     ]
    }
   ],
   "source": [
    "name=\"tony stark\"\n",
    "print(name.upper())"
   ]
  },
  {
   "cell_type": "code",
   "execution_count": 1,
   "id": "fdc42570-a6f2-4a22-a84a-871fc16cc160",
   "metadata": {},
   "outputs": [
    {
     "name": "stdin",
     "output_type": "stream",
     "text": [
      "enter our old age : 9\n"
     ]
    }
   ],
   "source": [
    "old_age=input(\"enter our old age :\")\n",
    "int(old_age)\n",
    "new_age=int(old_age)+2"
   ]
  },
  {
   "cell_type": "code",
   "execution_count": 7,
   "id": "99b180f6-168e-403e-a9f1-8426889c21cb",
   "metadata": {},
   "outputs": [
    {
     "name": "stdout",
     "output_type": "stream",
     "text": [
      "kaushik choudhari\n"
     ]
    }
   ],
   "source": [
    "name=\"KAUSHIK CHOUDHARI\"\n",
    "print(name.lower())"
   ]
  },
  {
   "cell_type": "code",
   "execution_count": 9,
   "id": "87924386-ec38-407e-9b67-25e022095e28",
   "metadata": {},
   "outputs": [
    {
     "name": "stdout",
     "output_type": "stream",
     "text": [
      "U\n"
     ]
    }
   ],
   "source": [
    "name=\"KAUSHIK CHOUDHARI\"\n",
    "print(name[2])"
   ]
  },
  {
   "cell_type": "code",
   "execution_count": 13,
   "id": "941ac2e5-8bdc-4b34-9fc8-e24d7db7996a",
   "metadata": {},
   "outputs": [
    {
     "name": "stdout",
     "output_type": "stream",
     "text": [
      "S\n"
     ]
    }
   ],
   "source": [
    "name=\"KAUSHIK CHOUDHARI\"\n",
    "print(name[3])"
   ]
  },
  {
   "cell_type": "code",
   "execution_count": 22,
   "id": "62d9f3c5-25c6-4897-addd-ddcbb200f905",
   "metadata": {},
   "outputs": [
    {
     "name": "stdout",
     "output_type": "stream",
     "text": [
      "I\n"
     ]
    }
   ],
   "source": [
    "name=\"KAUSHIK CHOUDHARI\"\n",
    "print(name[5])"
   ]
  },
  {
   "cell_type": "code",
   "execution_count": 31,
   "id": "f586b1e2-7b0f-4ba0-ae49-c8f9e8b11731",
   "metadata": {},
   "outputs": [
    {
     "name": "stdout",
     "output_type": "stream",
     "text": [
      "choudhari\n",
      "kaushik\n"
     ]
    }
   ],
   "source": [
    "name=\"kaushik\"\n",
    "print(name.replace(\"kaushik\",\"choudhari\"))\n",
    "print(name)"
   ]
  },
  {
   "cell_type": "code",
   "execution_count": 32,
   "id": "46f5881d-8a18-4ccc-955c-13f72929a7f9",
   "metadata": {},
   "outputs": [
    {
     "name": "stdout",
     "output_type": "stream",
     "text": [
      "25\n"
     ]
    }
   ],
   "source": [
    "print(5**2)"
   ]
  },
  {
   "cell_type": "code",
   "execution_count": 36,
   "id": "14177a24-034d-41e0-848d-bf29a7521622",
   "metadata": {},
   "outputs": [
    {
     "name": "stdout",
     "output_type": "stream",
     "text": [
      "10\n"
     ]
    }
   ],
   "source": [
    "a=5\n",
    "b=a+5\n",
    "print(b)"
   ]
  },
  {
   "cell_type": "code",
   "execution_count": 1,
   "id": "ebed81f9-ecce-4938-aa9b-f07de1c04c93",
   "metadata": {},
   "outputs": [
    {
     "data": {
      "text/plain": [
       "(str, list, tuple, set, dict)"
      ]
     },
     "execution_count": 1,
     "metadata": {},
     "output_type": "execute_result"
    }
   ],
   "source": [
    "str, list, tuple, set, dict"
   ]
  },
  {
   "cell_type": "code",
   "execution_count": 17,
   "id": "9319b2d8-57bc-42c6-b87a-0dcca26179cb",
   "metadata": {},
   "outputs": [
    {
     "data": {
      "text/plain": [
       "['__and__',\n",
       " '__class__',\n",
       " '__class_getitem__',\n",
       " '__contains__',\n",
       " '__delattr__',\n",
       " '__dir__',\n",
       " '__doc__',\n",
       " '__eq__',\n",
       " '__format__',\n",
       " '__ge__',\n",
       " '__getattribute__',\n",
       " '__getstate__',\n",
       " '__gt__',\n",
       " '__hash__',\n",
       " '__iand__',\n",
       " '__init__',\n",
       " '__init_subclass__',\n",
       " '__ior__',\n",
       " '__isub__',\n",
       " '__iter__',\n",
       " '__ixor__',\n",
       " '__le__',\n",
       " '__len__',\n",
       " '__lt__',\n",
       " '__ne__',\n",
       " '__new__',\n",
       " '__or__',\n",
       " '__rand__',\n",
       " '__reduce__',\n",
       " '__reduce_ex__',\n",
       " '__repr__',\n",
       " '__ror__',\n",
       " '__rsub__',\n",
       " '__rxor__',\n",
       " '__setattr__',\n",
       " '__sizeof__',\n",
       " '__str__',\n",
       " '__sub__',\n",
       " '__subclasshook__',\n",
       " '__xor__',\n",
       " 'add',\n",
       " 'clear',\n",
       " 'copy',\n",
       " 'difference',\n",
       " 'difference_update',\n",
       " 'discard',\n",
       " 'intersection',\n",
       " 'intersection_update',\n",
       " 'isdisjoint',\n",
       " 'issubset',\n",
       " 'issuperset',\n",
       " 'pop',\n",
       " 'remove',\n",
       " 'symmetric_difference',\n",
       " 'symmetric_difference_update',\n",
       " 'union',\n",
       " 'update']"
      ]
     },
     "execution_count": 17,
     "metadata": {},
     "output_type": "execute_result"
    }
   ],
   "source": [
    "dir(set)"
   ]
  },
  {
   "cell_type": "code",
   "execution_count": 13,
   "id": "e5332e41-bc28-40b0-8bbc-c6d758dcccac",
   "metadata": {},
   "outputs": [
    {
     "name": "stdout",
     "output_type": "stream",
     "text": [
      "5.385164807134504\n"
     ]
    }
   ],
   "source": [
    "point1 = (3, 5)\n",
    "point2 = (-2, 7)\n",
    "\n",
    "# Calculating distance (hypothetical example)\n",
    "distance = ((point2[0] - point1[0]) ** 2 + (point2[1] - point1[1]) ** 2) ** 0.5\n",
    "print(distance) "
   ]
  },
  {
   "cell_type": "code",
   "execution_count": 14,
   "id": "49aa8da0-5ac6-4271-b7f3-5204badde5b1",
   "metadata": {},
   "outputs": [
    {
     "name": "stdout",
     "output_type": "stream",
     "text": [
      "-11\n"
     ]
    }
   ],
   "source": [
    "distance = point2[0] - point1[0] ** 2\n",
    "print(distance)\n",
    "\n"
   ]
  },
  {
   "cell_type": "code",
   "execution_count": 15,
   "id": "1f4cd9f7-0bdd-4d04-9d22-9bbdfa63e70c",
   "metadata": {},
   "outputs": [
    {
     "name": "stdout",
     "output_type": "stream",
     "text": [
      "John Doe\n",
      "Marketing\n"
     ]
    }
   ],
   "source": [
    "employee1 = (1, 'John Doe', 'Engineering', 5000)\n",
    "employee2 = (2, 'Jane Smith', 'Marketing', 6000)\n",
    "\n",
    "# Accessing attributes of an employee\n",
    "print(employee1[1])  # Output: 'John Doe'\n",
    "print(employee2[2])  # Output: 6000"
   ]
  },
  {
   "cell_type": "code",
   "execution_count": 19,
   "id": "210f31b8-f33d-4ab4-b32f-2fe1a1941ce4",
   "metadata": {},
   "outputs": [
    {
     "name": "stdout",
     "output_type": "stream",
     "text": [
      "{1, 2, 3, 4, 5}\n"
     ]
    }
   ],
   "source": [
    "s1 = {1, 2, 3}\n",
    "s2 = {3, 4, 5}\n",
    "s1.update(s2)\n",
    "print(s1)"
   ]
  },
  {
   "cell_type": "code",
   "execution_count": 21,
   "id": "e40c4b14-6fea-4ca9-81a6-fc84478adb87",
   "metadata": {},
   "outputs": [
    {
     "name": "stdout",
     "output_type": "stream",
     "text": [
      "{1, 2, 3}\n"
     ]
    }
   ],
   "source": [
    "s = {1, 2, 3}\n",
    "s.discard(7)\n",
    "print(s)"
   ]
  },
  {
   "cell_type": "code",
   "execution_count": 23,
   "id": "f6f0a932-4a8b-4542-a1b7-9232861dc2c9",
   "metadata": {},
   "outputs": [
    {
     "name": "stdout",
     "output_type": "stream",
     "text": [
      "{1, 2, 3, 4, 5}\n"
     ]
    }
   ],
   "source": [
    "s1 = {1, 2, 3}\n",
    "s2 = {3, 4, 5}\n",
    "s3 = s1.union(s2)\n",
    "print(s3)"
   ]
  },
  {
   "cell_type": "code",
   "execution_count": 25,
   "id": "3e5cbb1f-f805-4981-a72a-fcb8c29a3267",
   "metadata": {},
   "outputs": [
    {
     "data": {
      "text/plain": [
       "{'Mumbai', 'madgaon', 'panjim', 'pune', 'vascodegama'}"
      ]
     },
     "execution_count": 25,
     "metadata": {},
     "output_type": "execute_result"
    }
   ],
   "source": [
    "goa_city = {\"panjim\", \"vascodegama\", \"madgaon\"}\n",
    "maha_city = {\"Mumbai\", \"nagpur\", \"pune\"}\n",
    "westernregion_city = {\"Mumbai\", \"pune\", \"panjim\"}\n",
    "westernregion_city.union(goa_city)"
   ]
  },
  {
   "cell_type": "code",
   "execution_count": 26,
   "id": "902ab0f3-dd76-4819-9f88-2125a2dd9446",
   "metadata": {},
   "outputs": [
    {
     "data": {
      "text/plain": [
       "{'Mumbai', 'nagpur', 'panjim', 'pune'}"
      ]
     },
     "execution_count": 26,
     "metadata": {},
     "output_type": "execute_result"
    }
   ],
   "source": [
    "maha_city.union(westernregion_city)"
   ]
  },
  {
   "cell_type": "code",
   "execution_count": 29,
   "id": "033a1511-9d9d-4fcf-af9e-170a450439fc",
   "metadata": {},
   "outputs": [
    {
     "name": "stdout",
     "output_type": "stream",
     "text": [
      "{3, 4}\n"
     ]
    }
   ],
   "source": [
    "s1 = {1, 2, 3,4}\n",
    "s2 = {3, 4, 5}\n",
    "s3 = s1.intersection(s2)\n",
    "print(s3)"
   ]
  },
  {
   "cell_type": "code",
   "execution_count": 28,
   "id": "8284d1a6-3659-4624-9a01-3ce4ab52e170",
   "metadata": {},
   "outputs": [
    {
     "data": {
      "text/plain": [
       "{3, 4}"
      ]
     },
     "execution_count": 28,
     "metadata": {},
     "output_type": "execute_result"
    }
   ],
   "source": [
    "s3"
   ]
  },
  {
   "cell_type": "code",
   "execution_count": 30,
   "id": "c207c30b-f9aa-4574-81fe-b45216df0060",
   "metadata": {},
   "outputs": [
    {
     "data": {
      "text/plain": [
       "{'madgaon', 'vascodegama'}"
      ]
     },
     "execution_count": 30,
     "metadata": {},
     "output_type": "execute_result"
    }
   ],
   "source": [
    "goa_city.difference(westernregion_city)"
   ]
  },
  {
   "cell_type": "code",
   "execution_count": 32,
   "id": "93ac2801-ba4f-4814-8530-2df86c8d9764",
   "metadata": {},
   "outputs": [
    {
     "data": {
      "text/plain": [
       "True"
      ]
     },
     "execution_count": 32,
     "metadata": {},
     "output_type": "execute_result"
    }
   ],
   "source": [
    "s1 = {1, 2, 3,4}\n",
    "s2 = {1, 4}\n",
    "s1.issuperset(s2)"
   ]
  },
  {
   "cell_type": "code",
   "execution_count": 34,
   "id": "794738c2-1b47-4318-abbe-fd84ba85958a",
   "metadata": {},
   "outputs": [
    {
     "data": {
      "text/plain": [
       "False"
      ]
     },
     "execution_count": 34,
     "metadata": {},
     "output_type": "execute_result"
    }
   ],
   "source": [
    "s1 = {1, 5}\n",
    "s2 = {1, 2, 3,}\n",
    "s1.issubset(s2)"
   ]
  },
  {
   "cell_type": "code",
   "execution_count": 35,
   "id": "395720d0-f912-4729-b32b-98e66cec1ddf",
   "metadata": {},
   "outputs": [
    {
     "name": "stdout",
     "output_type": "stream",
     "text": [
      "{1, 3}\n"
     ]
    }
   ],
   "source": [
    "s = {1, 2, 3}\n",
    "s.remove(2)\n",
    "print(s)"
   ]
  },
  {
   "cell_type": "code",
   "execution_count": 36,
   "id": "1831f1f5-eb70-4132-9909-25eb09c13d9b",
   "metadata": {},
   "outputs": [
    {
     "name": "stdout",
     "output_type": "stream",
     "text": [
      "{1, 2, 5, 6}\n"
     ]
    }
   ],
   "source": [
    "s1 = {1, 2, 3, 4}\n",
    "s2 = {3, 4, 5, 6}\n",
    "result = (s1.union(s2)).difference(s1.intersection(s2))\n",
    "print(result)  # Output: {1, 2, 5, 6}"
   ]
  },
  {
   "cell_type": "code",
   "execution_count": null,
   "id": "97f5eeed-10f9-4326-aa70-a04e7e6c7b78",
   "metadata": {},
   "outputs": [],
   "source": []
  }
 ],
 "metadata": {
  "kernelspec": {
   "display_name": "Python 3 (ipykernel)",
   "language": "python",
   "name": "python3"
  },
  "language_info": {
   "codemirror_mode": {
    "name": "ipython",
    "version": 3
   },
   "file_extension": ".py",
   "mimetype": "text/x-python",
   "name": "python",
   "nbconvert_exporter": "python",
   "pygments_lexer": "ipython3",
   "version": "3.11.7"
  }
 },
 "nbformat": 4,
 "nbformat_minor": 5
}
