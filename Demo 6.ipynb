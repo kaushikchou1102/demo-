{
 "cells": [
  {
   "cell_type": "code",
   "execution_count": 1,
   "id": "b6f986b8-cf1a-478e-baeb-5d0ee216cb9e",
   "metadata": {},
   "outputs": [
    {
     "name": "stdin",
     "output_type": "stream",
     "text": [
      "enter a name of employee  kaushik\n",
      "enter gender of employee   m\n",
      "enter basic salary of employee  20000\n",
      "enter experience  8\n",
      "enter incrament rate  0.3\n"
     ]
    },
    {
     "name": "stdout",
     "output_type": "stream",
     "text": [
      "gross_salary - 68000\n",
      "net_salary - 65000\n",
      "Bonus =  9100.0\n",
      "better luck next year\n"
     ]
    }
   ],
   "source": [
    "name = input(\"enter a name of employee \")\n",
    "gender = input(\"enter gender of employee  \")\n",
    "first_base_salary = int(input(\"enter basic salary of employee \"))\n",
    "year_of_experience = eval(input(\"enter experience \"))\n",
    "salary_increase_rate = eval(input(\"enter incrament rate \"))\n",
    "\n",
    "gross_salary = first_base_salary * (1 + salary_increase_rate * year_of_experience)\n",
    "gross_salary = int(gross_salary)\n",
    "net_salary = gross_salary - (first_base_salary*0.15)\n",
    "net_salary = int(net_salary)\n",
    "print(\"gross_salary -\", gross_salary)\n",
    "print(\"net_salary -\", net_salary)\n",
    "\n",
    "bonus_thresold = 2\n",
    "\n",
    "if year_of_experience >= 10:\n",
    "    if gender == \"f\":\n",
    "        bonus_rate = 0.2\n",
    "        bonus = net_salary * bonus_rate\n",
    "        print(\"Bonus = \", int(bonus))\n",
    "        if year_of_experience <=15 and gross_salary >= 100000:\n",
    "            aditional_bonus = 11000\n",
    "            total_bonus = bonus + aditional_bonus\n",
    "            print(\"overall_Bonus = \", bonus, \"+\", aditional_bonus,\"=\", int(total_bonus))\n",
    "            if net_salary >= 100000:\n",
    "                print(\"You will get early personal cabin\")\n",
    "        if year_of_experience > 15 and net_salary >= 100000:\n",
    "            aditional_bonus = 11000\n",
    "            total_bonus = bonus + aditional_bonus\n",
    "            print(\"overall_Bonus = \", bonus, \"+\", aditional_bonus,\"=\", int(total_bonus))\n",
    "            print(\"You will get personal cabin\")\n",
    "    elif gender == \"m\":\n",
    "        bonus_rate = 0.18\n",
    "        bonus = net_salary * bonus_rate\n",
    "        print(\"Bonus = \", int(bonus))\n",
    "        if year_of_experience <=15 and gross_salary >= 100000:\n",
    "            aditional_bonus = 10000\n",
    "            total_bonus = bonus + aditional_bonus\n",
    "            print(\"overall_Bonus = \", bonus, \"+\", aditional_bonus,\"=\", int(total_bonus))\n",
    "            if net_salary >= 100000:\n",
    "                print(\"You will get early personal cabin\")\n",
    "        if year_of_experience > 15 and net_salary >= 100000:\n",
    "            aditional_bonus = 10000\n",
    "            total_bonus = bonus + aditional_bonus\n",
    "            print(\"overall_Bonus = \", bonus, \"+\", aditional_bonus,\"=\", int(total_bonus))\n",
    "            print(\"You will get personal cabin\")  \n",
    "elif year_of_experience>= 6 < 10:\n",
    "    if gender == \"f\":\n",
    "        bonus_rate = 0.15\n",
    "        bonus = net_salary * bonus_rate\n",
    "        print(\"Bonus = \", bonus)\n",
    "        if gross_salary >= 75000:\n",
    "            print(\"Get promoted \")\n",
    "            if net_salary>= 70000:\n",
    "                print(\"Early promoted \")\n",
    "        else:\n",
    "            print(\"better luck next year\")\n",
    "    elif gender == \"m\":\n",
    "        bonus_rate = 0.14\n",
    "        bonus = net_salary * bonus_rate\n",
    "        print(\"Bonus = \", bonus)\n",
    "        if gross_salary >= 75000:\n",
    "            print(\"Get promoted \")\n",
    "            if net_salary>= 70000:\n",
    "                print(\"Early promoted \")\n",
    "        else:\n",
    "            print(\"better luck next year\")        \n",
    "elif year_of_experience > 2 <=5:\n",
    "    if gender == \"f\":\n",
    "        bonus_rate = 0.12\n",
    "        bonus = net_salary * bonus_rate\n",
    "        print(\"Bonus = \", bonus)\n",
    "        if gross_salary>= 50000:\n",
    "            print(\"Get regularization \")\n",
    "            if net_salary>= 45000:\n",
    "                print(\"Get early regularization\")\n",
    "    elif gender == \"m\":\n",
    "        bonus_rate = 0.10\n",
    "        bonus = net_salary * bonus_rate\n",
    "        print(\"Bonus = \", bonus)\n",
    "        if gross_salary>= 50000:\n",
    "            print(\"Get regularization \")\n",
    "            if net_salary>= 45000:\n",
    "                print(\"Get early regularization\")\n",
    "else:\n",
    "    print(\"No bonus for employee\")"
   ]
  },
  {
   "cell_type": "code",
   "execution_count": 7,
   "id": "becf2164-c173-4aae-89ea-238d61367931",
   "metadata": {},
   "outputs": [
    {
     "name": "stdin",
     "output_type": "stream",
     "text": [
      "enter a number 59\n"
     ]
    },
    {
     "name": "stdout",
     "output_type": "stream",
     "text": [
      "it is a  NOT prime number \n"
     ]
    }
   ],
   "source": [
    "n = int(input(\"enter a number\"))\n",
    "if  n==2:\n",
    "    print(\"it is a prime number \",n)\n",
    "elif n==3:\n",
    "    print(\"it is a prime number \",n)\n",
    "elif n%3==0 or n%2==0 or n%5==0 or n%7==0:\n",
    "    print(\"it is divisaible by 3 or 2 or 5\")\n",
    "else:\n",
    "    print(\"it is a  NOT prime number \")\n",
    "    \n",
    " \n",
    "       "
   ]
  },
  {
   "cell_type": "code",
   "execution_count": 5,
   "id": "61a8edfd-f0b1-4b55-81c7-054d3240de65",
   "metadata": {},
   "outputs": [
    {
     "name": "stdout",
     "output_type": "stream",
     "text": [
      "1\n",
      "2\n",
      "3\n",
      "4\n",
      "sudh\n",
      "kumar\n",
      "45.56\n"
     ]
    }
   ],
   "source": [
    "l = [1,2,3,4,\"sudh\" ,\"kumar\" , 45.56]\n",
    "for i in l:\n",
    "    print(i)"
   ]
  },
  {
   "cell_type": "code",
   "execution_count": 6,
   "id": "d8121285-9120-4c99-b177-7e3322a50a9b",
   "metadata": {},
   "outputs": [
    {
     "name": "stdout",
     "output_type": "stream",
     "text": [
      "1 2 3 4 sudh kumar 45.56 "
     ]
    }
   ],
   "source": [
    "l = [1,2,3,4,\"sudh\" ,\"kumar\" , 45.56]\n",
    "for i in l:\n",
    "    print(i, end=\" \")"
   ]
  },
  {
   "cell_type": "code",
   "execution_count": 19,
   "id": "32161bbb-204f-4915-9414-f9b37d62fde9",
   "metadata": {},
   "outputs": [
    {
     "name": "stdout",
     "output_type": "stream",
     "text": [
      "1\n",
      "2\n",
      "3\n",
      "sudh\n",
      "kumar\n",
      "45.56\n",
      "this will execute only if for is going to complete itself\n"
     ]
    }
   ],
   "source": [
    "for i in l :\n",
    "    if i == 4 :\n",
    "        continue\n",
    "    print(i)\n",
    "else :\n",
    "    print(\"this will execute only if for is going to complete itself\")"
   ]
  },
  {
   "cell_type": "code",
   "execution_count": 29,
   "id": "6ea7120e-ebcc-4dfa-86e4-e1e29af6d4e7",
   "metadata": {},
   "outputs": [
    {
     "name": "stdout",
     "output_type": "stream",
     "text": [
      "DA \n",
      "\n",
      "DA DA \n",
      "\n",
      "DA DA DA \n",
      "\n",
      "DA DA DA DA \n",
      "\n"
     ]
    }
   ],
   "source": [
    "n = 4\n",
    "\n",
    "for i in range(n) :\n",
    "    for j in range(0, i+1) : \n",
    "        print(\"DA\" , end = \" \")\n",
    "    print(\"\\n\")"
   ]
  },
  {
   "cell_type": "code",
   "execution_count": 33,
   "id": "02fbbb5e-0e47-4d87-a6ea-bc873c3cc5b3",
   "metadata": {},
   "outputs": [
    {
     "name": "stdout",
     "output_type": "stream",
     "text": [
      "4\n",
      "5\n",
      "6\n",
      "7\n",
      "8\n",
      "sudh\n"
     ]
    }
   ],
   "source": [
    "b = {4,5,6,7,7,7,7,7,7,7,7, 8,\"sudh\"}\n",
    "for i in b:\n",
    "    print(i)"
   ]
  },
  {
   "cell_type": "code",
   "execution_count": null,
   "id": "afd4f7de-7441-4613-8818-776c67797772",
   "metadata": {},
   "outputs": [],
   "source": []
  }
 ],
 "metadata": {
  "kernelspec": {
   "display_name": "Python 3 (ipykernel)",
   "language": "python",
   "name": "python3"
  },
  "language_info": {
   "codemirror_mode": {
    "name": "ipython",
    "version": 3
   },
   "file_extension": ".py",
   "mimetype": "text/x-python",
   "name": "python",
   "nbconvert_exporter": "python",
   "pygments_lexer": "ipython3",
   "version": "3.11.7"
  }
 },
 "nbformat": 4,
 "nbformat_minor": 5
}
