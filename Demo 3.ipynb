{
 "cells": [
  {
   "cell_type": "code",
   "execution_count": 1,
   "id": "7966eed5-306f-434d-bd78-31d00cde4dca",
   "metadata": {},
   "outputs": [
    {
     "name": "stdout",
     "output_type": "stream",
     "text": [
      "{True, 2, 'cherry', 'banana', 'apple'}\n"
     ]
    }
   ],
   "source": [
    "thisset = {\"apple\", \"banana\", \"cherry\", True, 1, 2}\n",
    "\n",
    "print(thisset)\n"
   ]
  },
  {
   "cell_type": "code",
   "execution_count": 2,
   "id": "fec73b58-61ca-42e9-b984-90e213ef2173",
   "metadata": {},
   "outputs": [
    {
     "name": "stdout",
     "output_type": "stream",
     "text": [
      "<class 'set'>\n"
     ]
    }
   ],
   "source": [
    "myset = {\"apple\", \"banana\", \"cherry\"}\n",
    "\n",
    "print(type(myset))"
   ]
  },
  {
   "cell_type": "code",
   "execution_count": 3,
   "id": "b27dc77c-5d22-4fbf-be26-0cc2c4a5481d",
   "metadata": {},
   "outputs": [
    {
     "name": "stdout",
     "output_type": "stream",
     "text": [
      "<class 'tuple'>\n"
     ]
    }
   ],
   "source": [
    "thistuple = (\"apple\",)\n",
    "print(type(thistuple))"
   ]
  },
  {
   "cell_type": "code",
   "execution_count": 4,
   "id": "fb348e86-80d3-4112-b237-e178af7b1457",
   "metadata": {},
   "outputs": [
    {
     "name": "stdout",
     "output_type": "stream",
     "text": [
      "<class 'str'>\n"
     ]
    }
   ],
   "source": [
    "thistuple = (\"apple\")\n",
    "print(type(thistuple))"
   ]
  },
  {
   "cell_type": "code",
   "execution_count": 6,
   "id": "c1a4e92f-3bc7-449e-b85c-d76d8a0db4bb",
   "metadata": {},
   "outputs": [
    {
     "name": "stdout",
     "output_type": "stream",
     "text": [
      "['apple', 'banana', 'cherry']\n"
     ]
    }
   ],
   "source": [
    "thislist = [\"apple\", \"banana\", \"cherry\"]\n",
    "print(thislist)"
   ]
  },
  {
   "cell_type": "code",
   "execution_count": 12,
   "id": "e2cc09c1-a58b-4df7-a4d0-2c2198d30b3c",
   "metadata": {},
   "outputs": [],
   "source": [
    "thistuple = (\"apple\", \"banana\", \"cherry\")\n",
    "y = list(thistuple)\n",
    "y.remove(\"apple\")\n",
    "thistuple = tuple(y)"
   ]
  },
  {
   "cell_type": "code",
   "execution_count": 13,
   "id": "79d4d6a0-a42d-4ad6-a09f-5ca570ec9c64",
   "metadata": {},
   "outputs": [
    {
     "name": "stdout",
     "output_type": "stream",
     "text": [
      "['apple', 'banana', 'cherry']\n"
     ]
    }
   ],
   "source": [
    "thislist = [\"apple\", \"banana\", \"cherry\"]\n",
    "print(thislist)"
   ]
  },
  {
   "cell_type": "code",
   "execution_count": 18,
   "id": "1f6030f2-26d5-48b2-a136-6218acc505bf",
   "metadata": {},
   "outputs": [
    {
     "name": "stdout",
     "output_type": "stream",
     "text": [
      "('banana', 'cherry')\n"
     ]
    }
   ],
   "source": [
    "thistuple = (\"apple\", \"banana\", \"cherry\")\n",
    "y = list(thistuple)\n",
    "y.remove(\"apple\")\n",
    "thistuple = tuple(y)\n",
    "print(thistuple)"
   ]
  },
  {
   "cell_type": "code",
   "execution_count": 16,
   "id": "80835389-03f2-4146-8556-74695ebd9a2f",
   "metadata": {},
   "outputs": [
    {
     "name": "stdout",
     "output_type": "stream",
     "text": [
      "<class 'tuple'>\n"
     ]
    }
   ],
   "source": [
    "thistuple = (\"apple\",)\n",
    "print(type(thistuple))"
   ]
  },
  {
   "cell_type": "code",
   "execution_count": 19,
   "id": "620db7af-7714-47fc-b22c-bb6dcefc903b",
   "metadata": {},
   "outputs": [
    {
     "name": "stdout",
     "output_type": "stream",
     "text": [
      "(1, 2, 3, 'a', 'b', 'c')\n"
     ]
    }
   ],
   "source": [
    "tuple1 = (1, 2, 3)\n",
    "tuple2 = ('a', 'b', 'c')\n",
    "\n",
    "# Concatenating tuples\n",
    "combined_tuple = tuple1 + tuple2\n",
    "print(combined_tuple) "
   ]
  },
  {
   "cell_type": "code",
   "execution_count": 20,
   "id": "bafe7d63-e7b0-4457-8c93-33bb4fe2128c",
   "metadata": {},
   "outputs": [
    {
     "name": "stdout",
     "output_type": "stream",
     "text": [
      "(10, 20, 30)\n",
      "(30, 40, 50)\n",
      "(20, 30, 40)\n"
     ]
    }
   ],
   "source": [
    "my_tuple = (10, 20, 30, 40, 50)\n",
    "\n",
    "# Slicing tuples\n",
    "print(my_tuple[:3])    \n",
    "print(my_tuple[2:])    \n",
    "print(my_tuple[1:4]) "
   ]
  },
  {
   "cell_type": "code",
   "execution_count": 23,
   "id": "5e108dcc-92ad-4f7b-b6be-7dfe9c83358b",
   "metadata": {},
   "outputs": [
    {
     "name": "stdout",
     "output_type": "stream",
     "text": [
      "(1, 2, 3)\n",
      "c\n"
     ]
    }
   ],
   "source": [
    "tuple1 = (1, 2, 3)\n",
    "tuple2 = ('a', 'b', 'c')\n",
    "nested_tuple = (tuple1, tuple2)\n",
    "\n",
    "print(nested_tuple[0])          \n",
    "print(nested_tuple[1][2])  \n"
   ]
  },
  {
   "cell_type": "code",
   "execution_count": 26,
   "id": "12a46d5a-6cc6-4b7a-a5e2-a9e155809bda",
   "metadata": {},
   "outputs": [
    {
     "name": "stdout",
     "output_type": "stream",
     "text": [
      "('a', 'b', 'c')\n"
     ]
    }
   ],
   "source": [
    "tuple1 = (1, 2, 3)\n",
    "tuple2 = ('a', 'b', 'c')\n",
    "nested_tuple = tuple1, tuple2\n",
    "print(nested_tuple[1])"
   ]
  },
  {
   "cell_type": "code",
   "execution_count": 27,
   "id": "e6a718f1-0a54-449c-999e-a2ed7940aa8a",
   "metadata": {},
   "outputs": [
    {
     "name": "stdout",
     "output_type": "stream",
     "text": [
      "1\n"
     ]
    }
   ],
   "source": [
    "my_tuple = (1, 2, 2, 3, 4, 2)\n",
    "\n",
    "print(my_tuple.count(3))"
   ]
  },
  {
   "cell_type": "code",
   "execution_count": 28,
   "id": "e48eea2f-3e7d-4b3d-b985-593e7686d5c5",
   "metadata": {},
   "outputs": [
    {
     "name": "stdout",
     "output_type": "stream",
     "text": [
      "John Doe\n",
      "6000\n"
     ]
    }
   ],
   "source": [
    "employee1 = (1, 'John Doe', 'Engineering', 5000)\n",
    "employee2 = (2, 'Jane Smith', 'Marketing', 6000)\n",
    "\n",
    "print(employee1[1])  \n",
    "print(employee2[3])  "
   ]
  },
  {
   "cell_type": "code",
   "execution_count": 48,
   "id": "5f61fb1e-19f8-488e-9386-beb1cc37d496",
   "metadata": {},
   "outputs": [
    {
     "name": "stdout",
     "output_type": "stream",
     "text": [
      "{'first_name': 'Asabeneh', 'last_name': 'Yetayeh', 'age': 25, 'country': ('Finland', 'sweden'), 'is_marred': True, 'skills': ['JavaScript', 'React', 'Node', 'Python'], 'address': {'street': 'Space street', 'zipcode': '02210'}}\n"
     ]
    }
   ],
   "source": [
    "print(person)"
   ]
  },
  {
   "cell_type": "code",
   "execution_count": 46,
   "id": "9fff4c8d-8c9e-4d9c-be5a-ed105e931e71",
   "metadata": {},
   "outputs": [
    {
     "data": {
      "text/plain": [
       "'sweden'"
      ]
     },
     "execution_count": 46,
     "metadata": {},
     "output_type": "execute_result"
    }
   ],
   "source": [
    "person[\"country\"][1]"
   ]
  },
  {
   "cell_type": "code",
   "execution_count": 55,
   "id": "8055f415-87f1-4c4a-9333-91b4bf79920e",
   "metadata": {},
   "outputs": [
    {
     "name": "stdout",
     "output_type": "stream",
     "text": [
      "Asabeneh\n",
      "('Finland', 'sweden')\n",
      "['JavaScript', 'React', 'Node', 'Python']\n",
      "JavaScript\n",
      "Space street\n"
     ]
    }
   ],
   "source": [
    "print(person.get('first_name')) \n",
    "print(person.get('country'))    \n",
    "print(person.get('skills'))     \n",
    "print(person.get('skills')[0])  \n",
    "print(person.get('address')['street']) \n",
    "  "
   ]
  },
  {
   "cell_type": "code",
   "execution_count": null,
   "id": "65bf9ba9-99d8-404f-91bf-b862bffe32cb",
   "metadata": {},
   "outputs": [],
   "source": []
  }
 ],
 "metadata": {
  "kernelspec": {
   "display_name": "Python 3 (ipykernel)",
   "language": "python",
   "name": "python3"
  },
  "language_info": {
   "codemirror_mode": {
    "name": "ipython",
    "version": 3
   },
   "file_extension": ".py",
   "mimetype": "text/x-python",
   "name": "python",
   "nbconvert_exporter": "python",
   "pygments_lexer": "ipython3",
   "version": "3.11.7"
  }
 },
 "nbformat": 4,
 "nbformat_minor": 5
}
