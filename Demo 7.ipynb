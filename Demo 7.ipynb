{
 "cells": [
  {
   "cell_type": "code",
   "execution_count": null,
   "id": "8f5527e5-78cd-49eb-addc-237303a40970",
   "metadata": {},
   "outputs": [],
   "source": [
    "l = [1,2,3,4,\"sudh\" ,\"kumar\" , 45.56]\n"
   ]
  },
  {
   "cell_type": "code",
   "execution_count": 19,
   "id": "d6d37ac6-9301-499c-9147-09bd153a2b0c",
   "metadata": {},
   "outputs": [
    {
     "name": "stdout",
     "output_type": "stream",
     "text": [
      "1\n",
      "2\n",
      "3\n",
      "sudh\n",
      "kumar\n",
      "45.56\n",
      "this will execute only if for is going to complete itself\n"
     ]
    }
   ],
   "source": [
    "l = [1,2,3,4,\"sudh\" ,\"kumar\" , 45.56]\n",
    "\n",
    "for i in l :\n",
    "    if i == 4 :\n",
    "        continue\n",
    "    print(i)\n",
    "else :\n",
    "    print(\"this will execute only if for is going to complete itself\")"
   ]
  },
  {
   "cell_type": "code",
   "execution_count": 21,
   "id": "62412f3f-0f43-4450-90c2-0cfc765ef836",
   "metadata": {},
   "outputs": [
    {
     "name": "stdout",
     "output_type": "stream",
     "text": [
      "1\n",
      "2\n",
      "3\n",
      "sudh\n",
      "kumar\n",
      "45.56\n",
      "this will execute only if for is going to complete itself\n"
     ]
    }
   ],
   "source": [
    "for i in l :\n",
    "    if i == 4 :\n",
    "        continue\n",
    "    print(i)\n",
    "else :\n",
    "    print(\"this will execute only if for is going to complete itself\")"
   ]
  },
  {
   "cell_type": "code",
   "execution_count": 29,
   "id": "f15048c0-580c-4132-a71d-d323ad971840",
   "metadata": {},
   "outputs": [
    {
     "name": "stdout",
     "output_type": "stream",
     "text": [
      "1\n",
      "2\n",
      "3\n"
     ]
    }
   ],
   "source": [
    "for i in l :\n",
    "    if i == 4 :\n",
    "        break\n",
    "    print(i)\n",
    "else :\n",
    "    print(\"this will execute only if for is going to complete itself\")"
   ]
  },
  {
   "cell_type": "code",
   "execution_count": 40,
   "id": "0e2463bf-a25c-4953-afec-267de43fb44e",
   "metadata": {},
   "outputs": [
    {
     "name": "stdout",
     "output_type": "stream",
     "text": [
      "1\n",
      "2\n",
      "3\n",
      "4\n",
      "sudh\n",
      "kumar\n",
      "45.56\n",
      "this will execute only if for is going to complete itself\n"
     ]
    }
   ],
   "source": [
    "for i in l :\n",
    "    if i == 4 :\n",
    "        pass\n",
    "    print(i)\n",
    "else :\n",
    "    print(\"this will execute only if for is going to complete itself\")"
   ]
  },
  {
   "cell_type": "code",
   "execution_count": 41,
   "id": "a65d9587-362a-464a-8c0e-834efde8fef8",
   "metadata": {},
   "outputs": [
    {
     "name": "stdout",
     "output_type": "stream",
     "text": [
      "1\n",
      "2\n",
      "3\n",
      "4\n",
      "sudh\n",
      "kumar\n",
      "45.56\n",
      "this will execute only if for is going to complete itself\n"
     ]
    }
   ],
   "source": [
    "for i in l:\n",
    "    if i == 4:\n",
    "        pass\n",
    "    print(i)\n",
    "else :\n",
    "    print(\"this will execute only if for is going to complete itself\")\n",
    "    "
   ]
  },
  {
   "cell_type": "code",
   "execution_count": 12,
   "id": "ec8e4ae8-1c3c-43f1-91c5-687d81cbd7e2",
   "metadata": {},
   "outputs": [
    {
     "name": "stdout",
     "output_type": "stream",
     "text": [
      "1\n",
      "2\n",
      "3\n",
      "sudh\n",
      "kumar\n",
      "45.56\n",
      "this will execute only if for is going to complete itself\n"
     ]
    }
   ],
   "source": [
    "l = [1,2,3,4,\"sudh\" ,\"kumar\" , 45.56]\n",
    "\n",
    "for i in l :\n",
    "    if i == 4 :\n",
    "        continue\n",
    "    print(i)\n",
    "else :\n",
    "  print(\"this will execute only if for is going to complete itself\")"
   ]
  },
  {
   "cell_type": "code",
   "execution_count": 56,
   "id": "52161dcc-e020-4b80-9f82-759a7f8a14d9",
   "metadata": {},
   "outputs": [
    {
     "name": "stdout",
     "output_type": "stream",
     "text": [
      "1\n",
      "2\n",
      "3\n",
      "sudh\n",
      "kumar\n",
      "45.56\n",
      "this will execute only if for is going to complete itself\n"
     ]
    }
   ],
   "source": [
    "for i in l :\n",
    "    if i == 4 :\n",
    "        continue\n",
    "    print(i)\n",
    "else :\n",
    "    print(\"this will execute only if for is going to complete itself\")"
   ]
  },
  {
   "cell_type": "code",
   "execution_count": 44,
   "id": "946da045-bfef-46b7-9f69-f9d16a5140f0",
   "metadata": {},
   "outputs": [
    {
     "name": "stdout",
     "output_type": "stream",
     "text": [
      "DA \n",
      "\n",
      "DA DA \n",
      "\n",
      "DA DA DA \n",
      "\n",
      "DA DA DA DA \n",
      "\n"
     ]
    }
   ],
   "source": [
    "n = 4\n",
    "\n",
    "for i in range(n) :\n",
    "    for j in range(0, i+1) : \n",
    "        print(\"DA\" , end = \" \")\n",
    "    print(\"\\n\")"
   ]
  },
  {
   "cell_type": "code",
   "execution_count": 54,
   "id": "975eccc9-ae00-4eca-a0e0-b0ff7db0a39a",
   "metadata": {},
   "outputs": [
    {
     "name": "stdout",
     "output_type": "stream",
     "text": [
      "DA \n",
      "\n",
      "DA DA \n",
      "\n",
      "DA DA DA \n",
      "\n",
      "DA DA DA DA \n",
      "\n"
     ]
    }
   ],
   "source": [
    "n = 4\n",
    "\n",
    "for i in range(n) :\n",
    "    for j in range(0, i+1) :\n",
    "        print(\"DA\" , end = \" \" )\n",
    "    print(\"\\n\")"
   ]
  },
  {
   "cell_type": "code",
   "execution_count": 53,
   "id": "4ac450da-76ec-48df-8d20-269a187c12cd",
   "metadata": {},
   "outputs": [
    {
     "name": "stdout",
     "output_type": "stream",
     "text": [
      "1\n",
      "3\n",
      "5\n",
      "7\n",
      "9\n",
      "11\n",
      "13\n",
      "15\n",
      "17\n",
      "19\n"
     ]
    }
   ],
   "source": [
    "for i in range(1,20,2):\n",
    "     print(i)"
   ]
  },
  {
   "cell_type": "code",
   "execution_count": 63,
   "id": "e6ab8b87-7781-499f-80ee-e08723cc8601",
   "metadata": {},
   "outputs": [
    {
     "name": "stdout",
     "output_type": "stream",
     "text": [
      "182.0\n"
     ]
    }
   ],
   "source": [
    "x = 36 / 4 * (3 +  2) * 4 + 2\n",
    "print(x)"
   ]
  },
  {
   "cell_type": "code",
   "execution_count": 71,
   "id": "4c0db652-0c3e-4293-872e-68c03cce35c7",
   "metadata": {},
   "outputs": [
    {
     "name": "stdout",
     "output_type": "stream",
     "text": [
      "{1, 'Vicki', 'Jodi', 'Garry', 'Eric'}\n"
     ]
    }
   ],
   "source": [
    "sampleSet = {\"Jodi\", \"Eric\", \"Garry\"}\n",
    "sampleSet.add(\"Vicki\")  # Correcting the method to add one item\n",
    "sampleSet.add(1)        # Adding the number 1 separately\n",
    "print(sampleSet)"
   ]
  },
  {
   "cell_type": "code",
   "execution_count": 75,
   "id": "eb1bd8db-48f0-4e01-95f4-6d4628a9bcec",
   "metadata": {},
   "outputs": [
    {
     "name": "stdout",
     "output_type": "stream",
     "text": [
      "{'Garry', 'c', 'Eric', 'Jodi'}\n"
     ]
    }
   ],
   "source": [
    "sampleSet = {\"Jodi\", \"Eric\", \"Garry\"}\n",
    "sampleSet.add(\"Vicki\"[2])\n",
    "print(sampleSet)"
   ]
  },
  {
   "cell_type": "code",
   "execution_count": 1,
   "id": "4bc99073-27ad-4617-9b63-6902031a4069",
   "metadata": {},
   "outputs": [],
   "source": [
    "d1 = { 1:[1,2], 2:[1,3], 3:[2,3]}\n"
   ]
  },
  {
   "cell_type": "code",
   "execution_count": 14,
   "id": "b62e3449-547c-4a42-8dc6-7b5ac2d41419",
   "metadata": {},
   "outputs": [
    {
     "name": "stdout",
     "output_type": "stream",
     "text": [
      "2\n",
      "3\n",
      "3\n"
     ]
    }
   ],
   "source": [
    "for i in d1.items():\n",
    "    print(i[1][1])"
   ]
  },
  {
   "cell_type": "code",
   "execution_count": null,
   "id": "c7212403-2821-47c3-92e0-33d248461a28",
   "metadata": {},
   "outputs": [],
   "source": []
  }
 ],
 "metadata": {
  "kernelspec": {
   "display_name": "Python 3 (ipykernel)",
   "language": "python",
   "name": "python3"
  },
  "language_info": {
   "codemirror_mode": {
    "name": "ipython",
    "version": 3
   },
   "file_extension": ".py",
   "mimetype": "text/x-python",
   "name": "python",
   "nbconvert_exporter": "python",
   "pygments_lexer": "ipython3",
   "version": "3.11.7"
  }
 },
 "nbformat": 4,
 "nbformat_minor": 5
}
