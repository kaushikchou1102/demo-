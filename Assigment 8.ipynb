{
 "cells": [
  {
   "cell_type": "markdown",
   "id": "2404d6e7-edb0-4014-8d4c-4a583bc4fdc2",
   "metadata": {},
   "source": [
    "1. Is the Python Standard Library included with PyInputPlus?\n",
    "\n"
   ]
  },
  {
   "cell_type": "markdown",
   "id": "9fb4c3b3-38d2-4ab0-9146-667d962b078b",
   "metadata": {},
   "source": [
    "Ans \n",
    "\n",
    "PyInputPlus is a third-party module and doesn't come with the Python Standard Library."
   ]
  },
  {
   "cell_type": "markdown",
   "id": "1d0ba99e-8b8b-4fee-b3f9-334909000249",
   "metadata": {},
   "source": [
    "2. Why is PyInputPlus commonly imported with import pyinputplus as pypi?"
   ]
  },
  {
   "cell_type": "markdown",
   "id": "d2243a1b-bbf3-4e4d-9fa7-7e5aa3bc0113",
   "metadata": {},
   "source": [
    "Ans. \n",
    "\n",
    "pypi is alias of PyInputPlus. \n",
    "\n",
    "The as pyip code in the import statement saves us from typing pyinputplus each time we want to call a PyInputPlus function. \n",
    "\n",
    "Instead we can use the shorter pyip name"
   ]
  },
  {
   "cell_type": "markdown",
   "id": "b4a1f8ff-8994-4250-92e6-fb09c907dadd",
   "metadata": {},
   "source": [
    "3. How do you distinguish between inputInt() and inputFloat()?\n"
   ]
  },
  {
   "cell_type": "markdown",
   "id": "fee1493f-30c6-4143-8fa9-b234f00223ae",
   "metadata": {},
   "source": [
    "Ans. \n",
    "\n",
    "inputInt() : Accepts an integer value, and returns int value.\n",
    "\n",
    "inputFloat() : Accepts integer/floating point value and returns float value."
   ]
  },
  {
   "cell_type": "markdown",
   "id": "f54710f1-74ab-451c-b680-53aa78e236dc",
   "metadata": {},
   "source": [
    "4. Using PyInputPlus, how do you ensure that the user enters a whole number between 0 and 99?\n"
   ]
  },
  {
   "cell_type": "markdown",
   "id": "5841c860-2504-4be8-8a5e-31f9094770be",
   "metadata": {},
   "source": [
    "Ans. \n",
    "\n",
    "In the inputint function we can set the min = 0 and max =99 to ensure user enters number between 0 and 99"
   ]
  },
  {
   "cell_type": "markdown",
   "id": "33110eff-3328-4944-875b-6a1017f357bf",
   "metadata": {},
   "source": [
    "5. What is transferred to the keyword arguments allowRegexes and blockRegexes?\n"
   ]
  },
  {
   "cell_type": "markdown",
   "id": "cca74c05-a41f-47b0-bc4c-cc07390db7d6",
   "metadata": {},
   "source": [
    "Ans. \n",
    "\n",
    "We can also use regular expressions to specify whether an input is allowed or not. The allowRegexes and blockRegexes keyword arguments take a list of regular expression strings to determine what the PyInputPlus function will accept or reject as valid input."
   ]
  },
  {
   "cell_type": "markdown",
   "id": "1783cbf0-2359-4bfd-9856-0786c570cd5b",
   "metadata": {},
   "source": [
    "6. If a blank input is entered three times, what does inputStr(limit=3) do?\n"
   ]
  },
  {
   "cell_type": "markdown",
   "id": "a32ec540-dd70-406f-b3cd-23338522b277",
   "metadata": {},
   "source": [
    "Ans \n",
    "\n",
    "It will throw RetryLimitException exception."
   ]
  },
  {
   "cell_type": "markdown",
   "id": "47f4b9e0-4cc9-4789-81db-413528e9a84b",
   "metadata": {},
   "source": [
    "7. If blank input is entered three times, what does inputStr(limit=3, default='hello') do?\n"
   ]
  },
  {
   "cell_type": "markdown",
   "id": "2c66feea-ee4c-4c54-ad8b-17090e2fb033",
   "metadata": {},
   "source": [
    "Ans \n",
    "\n",
    "When you use limit keyword arguments and also pass a default keyword argument, the function returns the default value instead of raising an exception"
   ]
  },
  {
   "cell_type": "code",
   "execution_count": null,
   "id": "f87d6a20-c33f-4690-b158-d5d34868080f",
   "metadata": {},
   "outputs": [],
   "source": []
  }
 ],
 "metadata": {
  "kernelspec": {
   "display_name": "Python 3 (ipykernel)",
   "language": "python",
   "name": "python3"
  },
  "language_info": {
   "codemirror_mode": {
    "name": "ipython",
    "version": 3
   },
   "file_extension": ".py",
   "mimetype": "text/x-python",
   "name": "python",
   "nbconvert_exporter": "python",
   "pygments_lexer": "ipython3",
   "version": "3.11.7"
  }
 },
 "nbformat": 4,
 "nbformat_minor": 5
}
