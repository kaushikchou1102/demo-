{
 "cells": [
  {
   "cell_type": "markdown",
   "id": "749fea32-b454-46d6-9fa3-6318e1663745",
   "metadata": {},
   "source": [
    "1. In the below elements which of them are values or an expression? eg:- values can be integer or string and expressions will be mathematical operators.\n",
    "   "
   ]
  },
  {
   "cell_type": "code",
   "execution_count": null,
   "id": "e16b0189-ff2b-40c2-9e1e-0e9f63196a75",
   "metadata": {},
   "outputs": [],
   "source": [
    "*       = muliplication\n",
    "'hello' = string \n",
    "-87.8    = float\n",
    "- = subtraction\n",
    "/ = divison\n",
    "6 = int"
   ]
  },
  {
   "cell_type": "markdown",
   "id": "507c75ed-453d-407d-aeae-248f88f3ba59",
   "metadata": {},
   "source": [
    "2 . What should the values of the following two terms be?\r\n",
    "\n",
    "\n",
    "'spam' + 'spamspam\n",
    "'\r\n",
    "'spam' * 3\r\n"
   ]
  },
  {
   "cell_type": "markdown",
   "id": "0642a0fc-0e3b-4553-8b59-ed86d6796a92",
   "metadata": {},
   "source": [
    "'spamspamspam'\n",
    "'spamspamspam'"
   ]
  },
  {
   "cell_type": "markdown",
   "id": "d7bc40b0-083f-49a8-a609-5c29a01d09ca",
   "metadata": {},
   "source": [
    "3. What is the difference between string and variable?\n"
   ]
  },
  {
   "cell_type": "markdown",
   "id": "5593ddc8-a970-44f0-b740-1b2a625c6a94",
   "metadata": {},
   "source": [
    "String:\n",
    "\n",
    "A string is a data type used to represent text as a sequence of characters.\n",
    "In most programming languages, strings are enclosed in quotation marks (single or double), e.g., 'hello', \"world\".\n",
    "Strings can contain letters, digits, symbols, and spaces.\n",
    "Operations on strings typically include concatenation (joining strings together), substring extraction, and comparison.\n",
    "\n",
    "\n",
    "variable\n",
    "\n",
    "A variable is a named storage location in a program where data can be stored and manipulated.\n",
    "Variables have a name (identifier) and a value (data stored in the variable).\n",
    "Variables are used to store different types of data, including strings, numbers, booleans, and more complex data structures.\n",
    "In programming languages, variables must be declared with a specific type or inferred from context. Once declared, they can hold values of that type."
   ]
  },
  {
   "cell_type": "markdown",
   "id": "2bd8c218-a1b7-434f-ad3b-a38c5c716b21",
   "metadata": {},
   "source": [
    "4. Describe three different data types.\n"
   ]
  },
  {
   "cell_type": "markdown",
   "id": "e078d13f-b903-48ab-9eff-3085bac17916",
   "metadata": {},
   "source": [
    " Integer (int)\n",
    "\n",
    "An integer is a data type that represents whole numbers without any fractional or decimal component. Integers can be both positive and negative, including zero.\n",
    "\n",
    "String (str)\n",
    "\n",
    "A string is a data type that represents a sequence of characters. Strings are used to store and manipulate text. They can include letters, numbers, symbols, and spaces.\n",
    "\n",
    " Boolean (bool)\n",
    "\n",
    "A boolean is a data type that represents one of two possible values: True or False. Booleans are typically used to evaluate conditions and control the flow of programs through conditional statements.\n",
    "\n"
   ]
  },
  {
   "cell_type": "markdown",
   "id": "790382fa-57b6-4f19-af52-b72c96f8d54a",
   "metadata": {},
   "source": [
    " 5.After running the following code, what does the variable bacon contain?\n",
    " \n",
    "bacon = 22\n",
    "\n",
    "\n",
    "bacon + 1"
   ]
  },
  {
   "cell_type": "markdown",
   "id": "4de0672d-7b23-4d6f-8f79-e792a255ff17",
   "metadata": {},
   "source": [
    "Ans\n",
    "\n",
    "bacon = 22 where value 22 assign the variable in bacon\n",
    "\n",
    "baco+1  22+1=23 \n",
    "\n",
    "\n",
    "the variable bacon contain 22 only"
   ]
  },
  {
   "cell_type": "markdown",
   "id": "8a7746c7-6f23-4816-9fff-e1564f03eb22",
   "metadata": {},
   "source": [
    "6.  Why does this expression cause an error? How can you fix it?\n",
    "\n",
    "'I have eaten ' + 99 + ' burritos.\n",
    "\n"
   ]
  },
  {
   "cell_type": "markdown",
   "id": "872c4776-e7e9-4b32-b8ac-a8184b8415e2",
   "metadata": {},
   "source": [
    "Ans=  \n",
    "\n",
    "'I have eaten ' + 99 + ' burritos.\n",
    "\n",
    "'I have eaten ' + str(99) + ' burritos.\n",
    "\n",
    "I have eaten 99 burritos.\n"
   ]
  },
  {
   "cell_type": "markdown",
   "id": "48b2ee5e-ae74-44ce-a105-02254e8520ae",
   "metadata": {},
   "source": [
    "7. Why is eggs a valid variable name while 100 is invalid?\n"
   ]
  },
  {
   "cell_type": "markdown",
   "id": "a46d71c2-e347-47be-b52a-c2e47e0b8923",
   "metadata": {},
   "source": [
    "Ans\n",
    "\n",
    "eggs is valid it starts with a letter.\n",
    "\n",
    "100 is invalid because it start with a digit"
   ]
  },
  {
   "cell_type": "markdown",
   "id": "b0825876-2475-418d-9236-1bdffe84c062",
   "metadata": {},
   "source": [
    "8. What three functions can be used to get the integer, floating-point number, or string version of a value?\n"
   ]
  },
  {
   "cell_type": "markdown",
   "id": "22e0be0f-f114-41d1-81a2-9108f68cd7db",
   "metadata": {},
   "source": [
    "Ans\n",
    "\n",
    "int(): Converts to integer.\n",
    "\n",
    "float(): Converts to floating-point number.\n",
    "\n",
    "str(): Converts to string."
   ]
  },
  {
   "cell_type": "markdown",
   "id": "a608188a-d259-41c4-a362-7f5f37678506",
   "metadata": {},
   "source": [
    "9. This assignment statements, like spam = 10. What is the difference between an expression and a statement?\n"
   ]
  },
  {
   "cell_type": "markdown",
   "id": "efb7c183-937d-406e-880a-d7e0bf88a0c4",
   "metadata": {},
   "source": [
    "Ans\n",
    "\n",
    "Expression\n",
    "\n",
    "An expression is a combination of values, variables, operators, and function calls that, when evaluated, produces a single value.\n",
    "\n",
    "Statement\n",
    "\n",
    "A statement is an instruction that the Python interpreter can execute. Statements do something but do not necessarily return a value.\n",
    "\n",
    "Expression: Evaluates to a value.\n",
    "2 + 3 evaluates to 5.\n",
    "\n",
    "Statement: Performs an action.\n",
    "spam = 10 assigns the value 10 to the variable spam"
   ]
  },
  {
   "cell_type": "markdown",
   "id": "c3cde417-1224-472c-af23-355c6d461b9e",
   "metadata": {},
   "source": [
    "10. What is an expression made up of? What do all expressions do?\n"
   ]
  },
  {
   "cell_type": "markdown",
   "id": "6ea20759-a4dc-418c-8bd6-f4f2add2a572",
   "metadata": {},
   "source": [
    "Ans\n",
    "\n",
    "\n",
    "An expression is made up of variables, constants, operators, and sometimes functions. All expressions represent a value and can be evaluated to produce a result. For example, in the expression \n",
    "\n",
    "3x+5, \n",
    "x is a variable, \n",
    "3 and \n",
    "5 are constants, and + is an operator.\n"
   ]
  },
  {
   "cell_type": "code",
   "execution_count": null,
   "id": "b9e5f554-14b8-4bfb-a3fd-61af37c156d0",
   "metadata": {},
   "outputs": [],
   "source": []
  }
 ],
 "metadata": {
  "kernelspec": {
   "display_name": "Python 3 (ipykernel)",
   "language": "python",
   "name": "python3"
  },
  "language_info": {
   "codemirror_mode": {
    "name": "ipython",
    "version": 3
   },
   "file_extension": ".py",
   "mimetype": "text/x-python",
   "name": "python",
   "nbconvert_exporter": "python",
   "pygments_lexer": "ipython3",
   "version": "3.11.7"
  }
 },
 "nbformat": 4,
 "nbformat_minor": 5
}
