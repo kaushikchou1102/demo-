{
 "cells": [
  {
   "cell_type": "markdown",
   "id": "5768d7ce-4599-4db2-8b57-7ad7d4f53641",
   "metadata": {},
   "source": [
    "1.What are the two values of the Boolean data type? How do you write them?\r\n"
   ]
  },
  {
   "cell_type": "markdown",
   "id": "f46d4d8d-7a28-4a1c-bc7a-4f512e9c4f65",
   "metadata": {},
   "source": [
    "                                     Ans\n",
    "\n",
    "True \n",
    "\n",
    "False \n",
    "\n"
   ]
  },
  {
   "cell_type": "markdown",
   "id": "23cec3d6-6663-49fc-89c1-4c54aab655bf",
   "metadata": {},
   "source": [
    "2. What are the three different types of Boolean operators?\n"
   ]
  },
  {
   "cell_type": "markdown",
   "id": "5f114076-4186-4275-9e77-1f8c7ddd37fb",
   "metadata": {},
   "source": [
    "                                    Ans\n",
    "\n",
    "And \n",
    "\n",
    "OR \n",
    "\n",
    "Not"
   ]
  },
  {
   "cell_type": "markdown",
   "id": "5a816998-8d0d-490b-9ac9-6a7b3ea20362",
   "metadata": {},
   "source": [
    "3. Make a list of each Boolean operator's truth tables (i.e. every possible combination of Boolean values for the operator and what it evaluate ).\n"
   ]
  },
  {
   "cell_type": "markdown",
   "id": "4e6a1618-aad1-4d28-880b-f91e08c89043",
   "metadata": {},
   "source": [
    "                                    Ans\n",
    "\n",
    "\n",
    "                                   And \n",
    "True and True = True\n",
    "\n",
    "True and False = False\n",
    "\n",
    "False and True = False\n",
    "\n",
    "False and False = False\n",
    "\n",
    "                                      Or \n",
    "True or True = True\n",
    "\n",
    "True or False = True\n",
    "\n",
    "False or True = True\n",
    "\n",
    "False or False = False\n",
    "\n",
    "\n",
    "                                   Not \n",
    "\n",
    "True = False \n",
    "\n",
    "False = True\n"
   ]
  },
  {
   "cell_type": "markdown",
   "id": "c29567a9-89ca-4dba-9011-a4664db61af7",
   "metadata": {},
   "source": [
    "4. What are the values of the following expressions?\n",
    "\n",
    "(5 > 4) and (3 == 5) \n",
    "\n",
    "not (5 > 4)\n",
    "\n",
    "(5 > 4) or (3 == 5)\n",
    "\n",
    "not ((5 > 4) or (3 == 5))\n",
    "\n",
    "(True and True) and (True == False)\n",
    "\n",
    "(not False) or (not True)\n",
    "\n"
   ]
  },
  {
   "cell_type": "markdown",
   "id": "4fa56393-db31-419d-9576-91e77740d306",
   "metadata": {},
   "source": [
    "                                  Ans \n",
    "\n",
    "(5 > 4) and (3 == 5) = False \n",
    "\n",
    "not (5 > 4) = False\n",
    "\n",
    "(5 > 4) or (3 == 5) = True\n",
    "\n",
    "not ((5 > 4) or (3 == 5)) = False\n",
    "\n",
    "(True and True) and (True == False)  =  False\n",
    "\n",
    "(not False) or (not True) = True"
   ]
  },
  {
   "cell_type": "markdown",
   "id": "67a0a946-d7ab-4fd0-9dad-d5f87f0d96f3",
   "metadata": {},
   "source": [
    "5. What are the six comparison operators?\n"
   ]
  },
  {
   "cell_type": "markdown",
   "id": "9fb266fd-145f-4501-a63d-99f01f5e6d12",
   "metadata": {},
   "source": [
    "                                  Ans\n",
    "1) == or equal to\n",
    "   \n",
    "2) != or not equal to\n",
    "   \n",
    "3)     > or greater than\n",
    "   \n",
    "4)     > = or greater than or equal to\n",
    "   \n",
    "5) < or less than\n",
    "   \n",
    "6) <= or less than or equal to"
   ]
  },
  {
   "cell_type": "markdown",
   "id": "0f7786ec-fe87-4fc1-a339-494259de88a4",
   "metadata": {},
   "source": [
    "6. How do you tell the difference between the equal to and assignment operators?Describe a condition and when you would use one.\n"
   ]
  },
  {
   "cell_type": "markdown",
   "id": "b4ce2752-d284-4483-b1a6-130881665171",
   "metadata": {},
   "source": [
    "                                  Ans\n",
    "\n",
    "Equal ( \"==\" )\n",
    "\n",
    "password1 = \"12345\"\n",
    "\n",
    "password2 = \"12345\"\n",
    "\n",
    "if password1 == password2:\n",
    "\n",
    "    print(\"Access granted.\")\n",
    "    \n",
    "else:\n",
    "\n",
    "    print(\"Access denied.\")\n",
    "\n",
    "\n",
    "Assignment ( \"=\" )\n",
    "\n",
    "Password = \"12345\"\n",
    "\n",
    "print(\"The Passwors is:\", Password)"
   ]
  },
  {
   "cell_type": "markdown",
   "id": "034bccfd-e069-46d2-b18b-fa3891b03e1e",
   "metadata": {},
   "source": [
    "7. Identify the three blocks in this code:\n",
    "\n",
    "spam = 0\n",
    "\n",
    "if spam == 10:\n",
    "\n",
    "print('eggs')\n",
    "\n",
    "if spam > 5:\n",
    "    \n",
    "print('bacon')\n",
    "\n",
    "else:\n",
    "\n",
    "print('ham')\n",
    "\n",
    "print('spam')\n",
    "\n",
    "print('spam')\n",
    "\n"
   ]
  },
  {
   "cell_type": "markdown",
   "id": "fb55af0c-781b-40e8-bd12-00389129ec52",
   "metadata": {},
   "source": [
    "                                     Ans\n",
    "\n",
    "Block 1                                  \n",
    "\n",
    "spam = 0\n",
    "\n",
    "Block 2\n",
    "\n",
    "if spam == 10:\r\n",
    "\r\n",
    "print('eggs\n",
    "\n",
    "Block 3\n",
    "\n",
    "if spam > 5:\n",
    "\n",
    "print('bacon')\n",
    "\n",
    "else:\n",
    "\n",
    "print('ham')\n",
    "\n",
    "print('spam')\n",
    "\n",
    "print('spam')\n",
    "nt('spam')2\n",
    "\n"
   ]
  },
  {
   "cell_type": "markdown",
   "id": "d661ce31-91bf-4928-9977-15946dba686f",
   "metadata": {},
   "source": [
    "8. Write code that prints Hello if 1 is stored in spam, prints Howdy if 2 is stored in spam, and prints Greetings! if anything else is stored in spam.\n"
   ]
  },
  {
   "cell_type": "code",
   "execution_count": 11,
   "id": "4bd3d708-4386-4139-b053-32a70f173547",
   "metadata": {},
   "outputs": [
    {
     "name": "stdin",
     "output_type": "stream",
     "text": [
      " 5\n"
     ]
    },
    {
     "name": "stdout",
     "output_type": "stream",
     "text": [
      "Greeting!\n"
     ]
    }
   ],
   "source": [
    "                               \n",
    "\n",
    "spam = int(input())\n",
    "if spam == 1 :\n",
    "   print('Hello')\n",
    "elif spam == 2:\n",
    "     print ('Howdy')\n",
    "else :\n",
    "      print('Greeting!')\n",
    "    \n",
    "    "
   ]
  },
  {
   "cell_type": "markdown",
   "id": "de4ee393-fe62-4b9c-88f2-148db2ba6f94",
   "metadata": {},
   "source": [
    "9.If your programme is stuck in an endless loop, what keys you’ll press?\n"
   ]
  },
  {
   "cell_type": "markdown",
   "id": "52062efa-9749-4ab8-a6e9-88d0f5dc1629",
   "metadata": {},
   "source": [
    "\n",
    "                                       Ans\n",
    "\n",
    "Ctrl + C\n"
   ]
  },
  {
   "cell_type": "markdown",
   "id": "d44cf65c-30f9-4a55-8030-f9e374dbb044",
   "metadata": {},
   "source": [
    "10. How can you tell the difference between break and continue?\n"
   ]
  },
  {
   "cell_type": "markdown",
   "id": "d88688d3-9460-4598-b685-cbaaa2eadade",
   "metadata": {},
   "source": [
    "                                   Ans\n",
    "\n",
    "                                   \n",
    "break: Exits the loop completely.\n",
    "\n",
    "continue: Skips the current iteration and continues with the next one."
   ]
  },
  {
   "cell_type": "markdown",
   "id": "24ed29c8-ad05-4438-8bf1-8f01f5118b00",
   "metadata": {},
   "source": [
    "11. In a for loop, what is the difference between range(10), range(0, 10), and range(0, 10, 1)?\n"
   ]
  },
  {
   "cell_type": "markdown",
   "id": "2c0aeb0a-5d38-4d34-9dd8-a7ef0518c6fe",
   "metadata": {},
   "source": [
    "                                    Ans\n",
    "\n",
    "Same ouput = 0,1,2,3,4,5,6,7,8,9\n"
   ]
  },
  {
   "cell_type": "markdown",
   "id": "09a957de-eee7-4910-b54f-3ef307d17d1e",
   "metadata": {},
   "source": [
    "12. Write a short program that prints the numbers 1 to 10 using a for loop. Then write an equivalent program that prints the numbers 1 to 10 using a while loop.\n"
   ]
  },
  {
   "cell_type": "markdown",
   "id": "b2a9b357-2042-4b17-8551-c116ff930294",
   "metadata": {},
   "source": [
    "                               Ans\n",
    "\n",
    "For loop\n",
    "\n",
    "for i in range (1,11);\n",
    "\n",
    "    print(i)\n",
    "\n",
    "While Loop\n",
    "\n",
    "i = 1\n",
    "\n",
    "while i <= 10\n",
    "\n",
    "      print(i)\n",
    "\n",
    "       i+ = 1\n",
    "    "
   ]
  },
  {
   "cell_type": "markdown",
   "id": "1fcf557d-fa35-4344-8f68-f9960428776f",
   "metadata": {},
   "source": [
    "13. If you had a function named bacon() inside a module named spam, how would you call it after importing spam?\n"
   ]
  },
  {
   "cell_type": "markdown",
   "id": "cb2f085c-02ca-4531-af7b-7fca02b08e2e",
   "metadata": {},
   "source": [
    "                                   Ans\n",
    "import spam\n",
    "\n",
    "spam.bacon()\n",
    "                                                                                 "
   ]
  },
  {
   "cell_type": "code",
   "execution_count": null,
   "id": "82a46a07-827f-40d4-b914-716e1a23825d",
   "metadata": {},
   "outputs": [],
   "source": []
  }
 ],
 "metadata": {
  "kernelspec": {
   "display_name": "Python 3 (ipykernel)",
   "language": "python",
   "name": "python3"
  },
  "language_info": {
   "codemirror_mode": {
    "name": "ipython",
    "version": 3
   },
   "file_extension": ".py",
   "mimetype": "text/x-python",
   "name": "python",
   "nbconvert_exporter": "python",
   "pygments_lexer": "ipython3",
   "version": "3.11.7"
  }
 },
 "nbformat": 4,
 "nbformat_minor": 5
}
