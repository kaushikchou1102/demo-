{
 "cells": [
  {
   "cell_type": "markdown",
   "id": "7489ce22-45f1-4944-b315-54251f0936aa",
   "metadata": {},
   "source": [
    "1. What exactly is [ ]?\n",
    "\n"
   ]
  },
  {
   "cell_type": "markdown",
   "id": "b1514da2-2c3a-4490-81b9-a8e2d160d0a8",
   "metadata": {},
   "source": [
    "Ans \n",
    "\n",
    "It is a empty list "
   ]
  },
  {
   "cell_type": "markdown",
   "id": "feca1033-adfd-4ce7-88f0-9dcb13a1a1f3",
   "metadata": {},
   "source": [
    "2. In a list of values stored in a variable called spam, how would you assign the value hello' as the third value? (Assume [2, 4, 6, 8, 10] are in spam.)\n",
    "\n"
   ]
  },
  {
   "cell_type": "code",
   "execution_count": 8,
   "id": "fc3f5a80-fb3a-45a5-a9e0-604c2f9a3de5",
   "metadata": {},
   "outputs": [
    {
     "data": {
      "text/plain": [
       "[2, 4, 'hello', 8, 10]"
      ]
     },
     "execution_count": 8,
     "metadata": {},
     "output_type": "execute_result"
    }
   ],
   "source": [
    "\n",
    "spam=[2,4,6,8,10]\n",
    "spam[2]='hello'\n",
    "spam"
   ]
  },
  {
   "cell_type": "markdown",
   "id": "f81ff9d8-0505-411d-b8a8-54f41c2d6feb",
   "metadata": {},
   "source": [
    "Let's pretend the spam includes the list ['a', 'b', 'c', 'd'] for the next three queries.\n"
   ]
  },
  {
   "cell_type": "markdown",
   "id": "aec11676-e96b-4c93-a7dc-f84cdf16409c",
   "metadata": {},
   "source": [
    "3.  What is the value of spam[int(int(3 * 2) / 11)]?\r\n",
    "\n"
   ]
  },
  {
   "cell_type": "code",
   "execution_count": 11,
   "id": "013c51c6-ebd1-4f93-bc41-d514ec869ebd",
   "metadata": {},
   "outputs": [
    {
     "data": {
      "text/plain": [
       "'d'"
      ]
     },
     "execution_count": 11,
     "metadata": {},
     "output_type": "execute_result"
    }
   ],
   "source": [
    "spam = ['a', 'b','c','d']\n",
    "spam[int(int('3' * 2) / 11)]"
   ]
  },
  {
   "cell_type": "markdown",
   "id": "19abc0c5-5a5e-471f-a038-2936d8a1f88d",
   "metadata": {},
   "source": [
    "4.  What is the value of spam[-1]?"
   ]
  },
  {
   "cell_type": "code",
   "execution_count": 18,
   "id": "c1ab5783-7714-4dcc-a938-27bacc529176",
   "metadata": {},
   "outputs": [
    {
     "data": {
      "text/plain": [
       "'d'"
      ]
     },
     "execution_count": 18,
     "metadata": {},
     "output_type": "execute_result"
    }
   ],
   "source": [
    "spam = ['a', 'b','c','d']\n",
    "spam[-1]\n"
   ]
  },
  {
   "cell_type": "markdown",
   "id": "ea230f0a-2f6e-4d4f-a547-8de314372902",
   "metadata": {},
   "source": [
    "5. What is the value of spam[:2]?\n"
   ]
  },
  {
   "cell_type": "code",
   "execution_count": 52,
   "id": "d0af61ff-9eba-4160-8271-df245884ab64",
   "metadata": {},
   "outputs": [
    {
     "data": {
      "text/plain": [
       "['a', 'b']"
      ]
     },
     "execution_count": 52,
     "metadata": {},
     "output_type": "execute_result"
    }
   ],
   "source": [
    "spam = ['a', 'b','c','d']\n",
    "spam[:2]\n"
   ]
  },
  {
   "cell_type": "markdown",
   "id": "a76be7b1-a680-4e0f-b915-7ab6da7f16ac",
   "metadata": {},
   "source": [
    "\n",
    "\n",
    "Let's pretend bacon has the list [3.14, 'cat,' 11, 'cat,' True] for the next three questions.\n"
   ]
  },
  {
   "cell_type": "markdown",
   "id": "bad39276-e4c1-43f9-85f2-986a5d50034c",
   "metadata": {},
   "source": [
    "6. What is the value of bacon.index('cat')?\n"
   ]
  },
  {
   "cell_type": "code",
   "execution_count": 32,
   "id": "906a2b0b-c519-4012-a5d6-0b33803c1910",
   "metadata": {},
   "outputs": [
    {
     "data": {
      "text/plain": [
       "1"
      ]
     },
     "execution_count": 32,
     "metadata": {},
     "output_type": "execute_result"
    }
   ],
   "source": [
    "bacon = [3.14, 'cat', 11, 'cat', True]\n",
    "bacon.index('cat')\n"
   ]
  },
  {
   "cell_type": "markdown",
   "id": "dc33c125-5ea7-4c45-b6b2-968d1be481e3",
   "metadata": {},
   "source": [
    "7. How does bacon.append(99) change the look of the list value in bacon?\n"
   ]
  },
  {
   "cell_type": "code",
   "execution_count": 26,
   "id": "12425ed8-ea27-42e6-8f3f-5949794abd37",
   "metadata": {},
   "outputs": [
    {
     "data": {
      "text/plain": [
       "[3.14, 'cat', 11, 'cat', True, 99]"
      ]
     },
     "execution_count": 26,
     "metadata": {},
     "output_type": "execute_result"
    }
   ],
   "source": [
    "bacon = [3.14, 'cat', 11, 'cat', True]\n",
    "bacon.append(99)\n",
    "bacon"
   ]
  },
  {
   "cell_type": "markdown",
   "id": "c24677ad-f9eb-441c-9ce2-9dc6ace41a2e",
   "metadata": {},
   "source": [
    "8. How does bacon.remove('cat') change the look of the list in bacon?\n"
   ]
  },
  {
   "cell_type": "code",
   "execution_count": 31,
   "id": "7149b3ac-e732-415d-8c99-182ef4936b43",
   "metadata": {},
   "outputs": [
    {
     "data": {
      "text/plain": [
       "[3.14, 11, 'cat', True]"
      ]
     },
     "execution_count": 31,
     "metadata": {},
     "output_type": "execute_result"
    }
   ],
   "source": [
    "bacon = [3.14, 'cat', 11, 'cat', True]\n",
    "bacon.remove('cat')\n",
    "bacon"
   ]
  },
  {
   "cell_type": "markdown",
   "id": "c95e3cb0-c4cd-4d53-9db9-ff255b0cb97f",
   "metadata": {},
   "source": [
    "9. What are the list concatenation and list replication operators?\n"
   ]
  },
  {
   "cell_type": "markdown",
   "id": "0c9c3a17-3541-487a-a964-1ee862fd00d7",
   "metadata": {},
   "source": [
    "( * ) is list replication operator ( + ) is list concatination operator"
   ]
  },
  {
   "cell_type": "code",
   "execution_count": 33,
   "id": "1f574c0b-d204-49d1-b1a0-1bba30bf1e27",
   "metadata": {},
   "outputs": [
    {
     "data": {
      "text/plain": [
       "[6, 7, 8, 9]"
      ]
     },
     "execution_count": 33,
     "metadata": {},
     "output_type": "execute_result"
    }
   ],
   "source": [
    "\n",
    "r1=[6,7]\n",
    "r2=[8,9]\n",
    "r1+r2"
   ]
  },
  {
   "cell_type": "code",
   "execution_count": 35,
   "id": "1af01375-8c23-43af-aaeb-13d5f4c22d20",
   "metadata": {},
   "outputs": [
    {
     "data": {
      "text/plain": [
       "[3, 5, 3, 5, 3, 5, 3, 5]"
      ]
     },
     "execution_count": 35,
     "metadata": {},
     "output_type": "execute_result"
    }
   ],
   "source": [
    "r3=[3,5]\n",
    "r3*4"
   ]
  },
  {
   "cell_type": "markdown",
   "id": "4877ff80-d94a-4c9e-a326-047a57f20a1b",
   "metadata": {},
   "source": [
    "10. What is difference between the list methods append() and insert()?\n"
   ]
  },
  {
   "cell_type": "code",
   "execution_count": 37,
   "id": "b87e9a15-d115-4fdb-8226-654af446fe2e",
   "metadata": {},
   "outputs": [
    {
     "data": {
      "text/plain": [
       "[1, 2, 3, 7]"
      ]
     },
     "execution_count": 37,
     "metadata": {},
     "output_type": "execute_result"
    }
   ],
   "source": [
    "l1=[1,2,3]\n",
    "l1.append(7)\n",
    "l1"
   ]
  },
  {
   "cell_type": "code",
   "execution_count": 41,
   "id": "db142236-a190-4420-9ec7-e39a4c59058b",
   "metadata": {},
   "outputs": [
    {
     "data": {
      "text/plain": [
       "[4, 5, 7, 'try', 9, 8]"
      ]
     },
     "execution_count": 41,
     "metadata": {},
     "output_type": "execute_result"
    }
   ],
   "source": [
    "l2=[4,5,7,9,8]\n",
    "l2.insert(3,'try')\n",
    "l2"
   ]
  },
  {
   "cell_type": "markdown",
   "id": "0c53bc4e-5b5d-4bde-9390-dee6d339f4d7",
   "metadata": {},
   "source": [
    "11. What are the two methods for removing items from a list?\n"
   ]
  },
  {
   "cell_type": "markdown",
   "id": "8e43749a-2b1d-4d9c-9f69-a4cd89615a3a",
   "metadata": {},
   "source": [
    "Ans \n",
    "\n",
    "remove\n",
    "\n",
    "pop"
   ]
  },
  {
   "cell_type": "code",
   "execution_count": 47,
   "id": "db08d8af-e328-4521-8fcd-f14295076752",
   "metadata": {},
   "outputs": [
    {
     "data": {
      "text/plain": [
       "[4, 5, 7, 9]"
      ]
     },
     "execution_count": 47,
     "metadata": {},
     "output_type": "execute_result"
    }
   ],
   "source": [
    "d1=[4,5,6,7,9]\n",
    "d1.remove(6)\n",
    "d1"
   ]
  },
  {
   "cell_type": "markdown",
   "id": "a5ee4634-5a23-416b-af63-f7e16e335fed",
   "metadata": {},
   "source": [
    "d2=[2,4,6,8,0]\n",
    "d2.pop()\n",
    "d2"
   ]
  },
  {
   "cell_type": "markdown",
   "id": "ad70e982-ff62-49a7-ba4b-e6ab2a70e661",
   "metadata": {},
   "source": [
    "12. Describe how list values and string values are identical.\n"
   ]
  },
  {
   "cell_type": "markdown",
   "id": "06a8de47-e993-4232-98c6-87f2da586917",
   "metadata": {},
   "source": [
    "Ans\n",
    "\n",
    "1. Both have len() function \n",
    "\n",
    "2. Both have indexing and slicing \n",
    "\n",
    "3. Both have Concatenation.\n",
    "\n",
    "4. Sequential Collection of Elements.\n",
    "\n",
    "5. Both have Repetition."
   ]
  },
  {
   "cell_type": "markdown",
   "id": "1614c2d1-84fb-40eb-91ad-7f1502ee2c44",
   "metadata": {},
   "source": [
    "13. What's the difference between tuples and lists?\n"
   ]
  },
  {
   "cell_type": "markdown",
   "id": "fc6c8407-5d2a-4003-8abc-00036eebac2d",
   "metadata": {},
   "source": [
    "Ans \n",
    "\n",
    "Lists : are mutable - they can have values added, removed, or changed. lists use the square brackets, [ and ]\n",
    "\n",
    "Tuples : are immutable; they cannot be changed at all. Tuples are written using parentheses, ( and )"
   ]
  },
  {
   "cell_type": "markdown",
   "id": "a05dcecc-d43c-46f0-80fe-001a143d13e7",
   "metadata": {},
   "source": [
    "14. How do you type a tuple value that only contains the integer 42?\n"
   ]
  },
  {
   "cell_type": "code",
   "execution_count": 56,
   "id": "43440a59-7f68-4fe1-a3f5-070426b969be",
   "metadata": {},
   "outputs": [
    {
     "data": {
      "text/plain": [
       "67"
      ]
     },
     "execution_count": 56,
     "metadata": {},
     "output_type": "execute_result"
    }
   ],
   "source": [
    "tuple=(67)\n",
    "tuple"
   ]
  },
  {
   "cell_type": "markdown",
   "id": "cb9750b6-78b2-43f5-a6bb-10084e96842b",
   "metadata": {},
   "source": [
    "15. How do you get a list value's tuple form? How do you get a tuple value's list form?\n"
   ]
  },
  {
   "cell_type": "code",
   "execution_count": 77,
   "id": "bc8c16ab-1692-4fff-bab6-6f643dbe29fc",
   "metadata": {},
   "outputs": [
    {
     "data": {
      "text/plain": [
       "[3, 4]"
      ]
     },
     "execution_count": 77,
     "metadata": {},
     "output_type": "execute_result"
    }
   ],
   "source": [
    "t1 = (3,4)\n",
    "t = list(t1)\n",
    "t"
   ]
  },
  {
   "cell_type": "code",
   "execution_count": null,
   "id": "599f9ffa-2312-4046-bb85-b8c822dd51ba",
   "metadata": {},
   "outputs": [],
   "source": [
    "l1 = [2,3]\n",
    "l = tuple(l1)\n",
    "l"
   ]
  },
  {
   "cell_type": "markdown",
   "id": "884da63a-3778-460a-90d8-bb5fcd55a8d0",
   "metadata": {},
   "source": [
    "16. Variables that \"contain\" list values are not necessarily lists themselves. Instead, what do they contain?\n"
   ]
  },
  {
   "cell_type": "markdown",
   "id": "127fdc53-cb59-4ec6-b46f-776ba9117afb",
   "metadata": {},
   "source": [
    "Ans\n",
    "\n",
    "Variables will contain references to list values "
   ]
  },
  {
   "cell_type": "markdown",
   "id": "a9c998a2-da9d-451f-86a7-239b868a24df",
   "metadata": {},
   "source": [
    "17. How do you distinguish between copy.copy() and copy.deepcopy()?\n"
   ]
  },
  {
   "cell_type": "markdown",
   "id": "8d5da503-6427-4a91-b77a-fa089b2d7a67",
   "metadata": {},
   "source": [
    "Ans . \n",
    "\n",
    "The copy.copy() function will do a shallow copy of a list,\n",
    "\n",
    "The copy.deepcopy() function will do a deep copy of a list. only copy.deepcopy() will duplicate any lists inside the list"
   ]
  },
  {
   "cell_type": "code",
   "execution_count": null,
   "id": "fc4b54c8-1381-4ea2-9225-7e84b9ea4855",
   "metadata": {},
   "outputs": [],
   "source": []
  }
 ],
 "metadata": {
  "kernelspec": {
   "display_name": "Python 3 (ipykernel)",
   "language": "python",
   "name": "python3"
  },
  "language_info": {
   "codemirror_mode": {
    "name": "ipython",
    "version": 3
   },
   "file_extension": ".py",
   "mimetype": "text/x-python",
   "name": "python",
   "nbconvert_exporter": "python",
   "pygments_lexer": "ipython3",
   "version": "3.11.7"
  }
 },
 "nbformat": 4,
 "nbformat_minor": 5
}
