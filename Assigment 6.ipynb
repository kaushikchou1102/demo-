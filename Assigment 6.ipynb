{
 "cells": [
  {
   "cell_type": "markdown",
   "id": "3341191b-da19-443f-8018-83ee5b07376e",
   "metadata": {},
   "source": [
    "1. What are escape characters, and how do you use them?\n",
    "\n"
   ]
  },
  {
   "cell_type": "code",
   "execution_count": null,
   "id": "eef3d029-d3f3-4b04-b6e2-e63cebaf2a9a",
   "metadata": {},
   "outputs": [],
   "source": [
    "An escape character is a backslash \\"
   ]
  },
  {
   "cell_type": "code",
   "execution_count": 4,
   "id": "82d6f248-f5ad-44fc-b698-e0c6d0ad8942",
   "metadata": {},
   "outputs": [
    {
     "name": "stdout",
     "output_type": "stream",
     "text": [
      "my name is\n"
     ]
    }
   ],
   "source": [
    "print(\"my \\\n",
    "name \\\n",
    "is\")"
   ]
  },
  {
   "cell_type": "markdown",
   "id": "684b03a0-dbc6-44e3-a10c-5d98fa5543ca",
   "metadata": {},
   "source": [
    "2. What do the escape characters n and t stand for?\n"
   ]
  },
  {
   "cell_type": "code",
   "execution_count": null,
   "id": "0887c715-2fea-4684-bfe3-c62b9bd9d3ad",
   "metadata": {},
   "outputs": [],
   "source": [
    "\\n is new line \n",
    "\n",
    "\\t is tab"
   ]
  },
  {
   "cell_type": "markdown",
   "id": "f68a59a9-300a-45cc-9f9b-a33e4f5db1d7",
   "metadata": {},
   "source": [
    "3. What is the way to include backslash characters in a string?\n"
   ]
  },
  {
   "cell_type": "code",
   "execution_count": 7,
   "id": "e382d9c6-e243-47ff-8510-f4de098aaf93",
   "metadata": {},
   "outputs": [
    {
     "name": "stdout",
     "output_type": "stream",
     "text": [
      "my \\ name \\ is\n"
     ]
    }
   ],
   "source": [
    "print(\"my \\ name \\ is\")"
   ]
  },
  {
   "cell_type": "markdown",
   "id": "8f703300-c3c6-4057-9b22-727b47c12e8e",
   "metadata": {},
   "source": [
    "4. The string \"Howl's Moving Castle\" is a correct value. Why isn't the single quote character in the word Howl's not escaped a problem?\n"
   ]
  },
  {
   "cell_type": "code",
   "execution_count": 8,
   "id": "888912da-0ec8-4bf7-8506-e96f9b154d7e",
   "metadata": {},
   "outputs": [
    {
     "name": "stdout",
     "output_type": "stream",
     "text": [
      "Howl's Moving Castle\n"
     ]
    }
   ],
   "source": [
    "print(\"Howl's Moving Castle\")"
   ]
  },
  {
   "cell_type": "code",
   "execution_count": 9,
   "id": "47ea0a01-98bd-4a8e-987d-6016d401b611",
   "metadata": {},
   "outputs": [
    {
     "name": "stdout",
     "output_type": "stream",
     "text": [
      "Its a Nice Day\n"
     ]
    }
   ],
   "source": [
    "print('Its a Nice Day')"
   ]
  },
  {
   "cell_type": "markdown",
   "id": "7895e2e9-c69c-48c0-9d1f-ecb6dd3ce6f6",
   "metadata": {},
   "source": [
    "5. How do you write a string of newlines if you don't want to use the n character?\n"
   ]
  },
  {
   "cell_type": "code",
   "execution_count": 15,
   "id": "1463a094-bcf7-49af-b6a6-302c23ddcd37",
   "metadata": {},
   "outputs": [
    {
     "name": "stdout",
     "output_type": "stream",
     "text": [
      "hello kaushik \n",
      "\n",
      "your age is\n"
     ]
    }
   ],
   "source": [
    "print(\"hello kaushik \\n\")\n",
    "print(\"your age is\")"
   ]
  },
  {
   "cell_type": "markdown",
   "id": "276f46c2-1d2f-471d-ba7c-ad01f32fc098",
   "metadata": {},
   "source": [
    "6. What are the values of the given expressions?\n",
    "\n",
    "'Hello, world!'[1]\n",
    "\n",
    "'Hello, world!'[0:5]\n",
    "\n",
    "'Hello, world!'[:5]\n",
    "\n",
    "'Hello, world!'[3:]"
   ]
  },
  {
   "cell_type": "code",
   "execution_count": 16,
   "id": "74922b06-ecf5-442d-8145-d9a1caa1be8f",
   "metadata": {},
   "outputs": [
    {
     "data": {
      "text/plain": [
       "'e'"
      ]
     },
     "execution_count": 16,
     "metadata": {},
     "output_type": "execute_result"
    }
   ],
   "source": [
    "'Hello, world!'[1]"
   ]
  },
  {
   "cell_type": "code",
   "execution_count": 17,
   "id": "3ba8e920-6acf-47a4-b4ab-0dfe5c888399",
   "metadata": {},
   "outputs": [
    {
     "data": {
      "text/plain": [
       "'Hello'"
      ]
     },
     "execution_count": 17,
     "metadata": {},
     "output_type": "execute_result"
    }
   ],
   "source": [
    "'Hello, world!'[0:5]"
   ]
  },
  {
   "cell_type": "code",
   "execution_count": 18,
   "id": "648b83e0-0a32-41a8-b213-568b4f4753ee",
   "metadata": {},
   "outputs": [
    {
     "data": {
      "text/plain": [
       "'Hello'"
      ]
     },
     "execution_count": 18,
     "metadata": {},
     "output_type": "execute_result"
    }
   ],
   "source": [
    "'Hello, world!'[:5]"
   ]
  },
  {
   "cell_type": "code",
   "execution_count": 19,
   "id": "8e057915-e564-477f-80fa-c08c5a72850b",
   "metadata": {},
   "outputs": [
    {
     "data": {
      "text/plain": [
       "'lo, world!'"
      ]
     },
     "execution_count": 19,
     "metadata": {},
     "output_type": "execute_result"
    }
   ],
   "source": [
    "'Hello, world!'[3:]"
   ]
  },
  {
   "cell_type": "markdown",
   "id": "ca39bacb-e268-47ad-bbc0-16c94feb1044",
   "metadata": {},
   "source": [
    "7. What are the values of the following expressions?\n",
    "\n",
    "'Hello'.upper()\n",
    "\n",
    "'Hello'.upper().isupper()\n",
    "\n",
    "'Hello'.upper().lower()"
   ]
  },
  {
   "cell_type": "code",
   "execution_count": 20,
   "id": "3aeb3eee-fb1b-4cd8-81bc-303cc3756a9f",
   "metadata": {},
   "outputs": [
    {
     "data": {
      "text/plain": [
       "'HELLO'"
      ]
     },
     "execution_count": 20,
     "metadata": {},
     "output_type": "execute_result"
    }
   ],
   "source": [
    "'Hello'.upper()\n"
   ]
  },
  {
   "cell_type": "code",
   "execution_count": 21,
   "id": "321bacd8-53f4-430e-8bae-0de6ca6f6962",
   "metadata": {},
   "outputs": [
    {
     "data": {
      "text/plain": [
       "True"
      ]
     },
     "execution_count": 21,
     "metadata": {},
     "output_type": "execute_result"
    }
   ],
   "source": [
    "'Hello'.upper().isupper()\n"
   ]
  },
  {
   "cell_type": "code",
   "execution_count": 22,
   "id": "f934855e-72cb-4d85-8e73-aa2359063926",
   "metadata": {},
   "outputs": [
    {
     "data": {
      "text/plain": [
       "'hello'"
      ]
     },
     "execution_count": 22,
     "metadata": {},
     "output_type": "execute_result"
    }
   ],
   "source": [
    "'Hello'.upper().lower()"
   ]
  },
  {
   "cell_type": "markdown",
   "id": "e2e2f4fb-dde8-4b8b-a490-21a6603a262f",
   "metadata": {},
   "source": [
    "8. What are the values of the following expressions?\n",
    "\n",
    "'Remember, remember, the fifth of July.'.split()\n",
    "\n",
    "'-'.join('There can only one.'.split())"
   ]
  },
  {
   "cell_type": "code",
   "execution_count": 23,
   "id": "89301cda-606c-4918-bf24-4f81e063b8dd",
   "metadata": {},
   "outputs": [
    {
     "data": {
      "text/plain": [
       "['Remember,', 'remember,', 'the', 'fifth', 'of', 'July.']"
      ]
     },
     "execution_count": 23,
     "metadata": {},
     "output_type": "execute_result"
    }
   ],
   "source": [
    "'Remember, remember, the fifth of July.'.split()\n"
   ]
  },
  {
   "cell_type": "code",
   "execution_count": 24,
   "id": "c3779337-4832-421c-b30d-25eb3e5aec1a",
   "metadata": {},
   "outputs": [
    {
     "data": {
      "text/plain": [
       "'There-can-only-one.'"
      ]
     },
     "execution_count": 24,
     "metadata": {},
     "output_type": "execute_result"
    }
   ],
   "source": [
    "'-'.join('There can only one.'.split())"
   ]
  },
  {
   "cell_type": "markdown",
   "id": "12b775c9-c90e-4315-9523-dc16c2c728db",
   "metadata": {},
   "source": [
    "9. What are the methods for right-justifying, left-justifying, and centering a string?\n"
   ]
  },
  {
   "cell_type": "code",
   "execution_count": 32,
   "id": "2fce0780-5f2d-40af-9709-7fa7ba4fc1dd",
   "metadata": {},
   "outputs": [
    {
     "data": {
      "text/plain": [
       "'kaushik---'"
      ]
     },
     "execution_count": 32,
     "metadata": {},
     "output_type": "execute_result"
    }
   ],
   "source": [
    "str =\"kaushik\"\n",
    "str.ljust(10,\"-\")"
   ]
  },
  {
   "cell_type": "code",
   "execution_count": 31,
   "id": "b3439228-ceb4-43cd-8724-05cfa2e2f56b",
   "metadata": {},
   "outputs": [
    {
     "data": {
      "text/plain": [
       "'---kaushik'"
      ]
     },
     "execution_count": 31,
     "metadata": {},
     "output_type": "execute_result"
    }
   ],
   "source": [
    "str =\"kaushik\"\n",
    "str.rjust(10,\"-\")"
   ]
  },
  {
   "cell_type": "code",
   "execution_count": 30,
   "id": "cbb825e7-fa06-4aa7-a47a-2072b78edafe",
   "metadata": {},
   "outputs": [
    {
     "data": {
      "text/plain": [
       "'-kaushik--'"
      ]
     },
     "execution_count": 30,
     "metadata": {},
     "output_type": "execute_result"
    }
   ],
   "source": [
    "str =\"kaushik\"\n",
    "str.center(10,\"-\")"
   ]
  },
  {
   "cell_type": "markdown",
   "id": "0e46548d-da26-487a-b234-38b1e6d57029",
   "metadata": {},
   "source": [
    "10. What is the best way to remove whitespace characters from the start or end?\n"
   ]
  },
  {
   "cell_type": "code",
   "execution_count": 35,
   "id": "c35c4c0c-4b70-4ed4-bd46-184af529cbd0",
   "metadata": {},
   "outputs": [
    {
     "data": {
      "text/plain": [
       "'kaushik'"
      ]
     },
     "execution_count": 35,
     "metadata": {},
     "output_type": "execute_result"
    }
   ],
   "source": [
    "str =\"   kaushik\"\n",
    "str.lstrip()"
   ]
  },
  {
   "cell_type": "code",
   "execution_count": 38,
   "id": "7c9df515-6f67-492c-8406-e404b1ab2541",
   "metadata": {},
   "outputs": [
    {
     "data": {
      "text/plain": [
       "'kaushik'"
      ]
     },
     "execution_count": 38,
     "metadata": {},
     "output_type": "execute_result"
    }
   ],
   "source": [
    "str =\"kaushik   \"\n",
    "str.rstrip()"
   ]
  },
  {
   "cell_type": "code",
   "execution_count": null,
   "id": "7f9ec64b-bcae-41b6-9a6c-b5ccdbb7dd71",
   "metadata": {},
   "outputs": [],
   "source": []
  }
 ],
 "metadata": {
  "kernelspec": {
   "display_name": "Python 3 (ipykernel)",
   "language": "python",
   "name": "python3"
  },
  "language_info": {
   "codemirror_mode": {
    "name": "ipython",
    "version": 3
   },
   "file_extension": ".py",
   "mimetype": "text/x-python",
   "name": "python",
   "nbconvert_exporter": "python",
   "pygments_lexer": "ipython3",
   "version": "3.11.7"
  }
 },
 "nbformat": 4,
 "nbformat_minor": 5
}
