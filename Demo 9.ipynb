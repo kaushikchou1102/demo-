{
 "cells": [
  {
   "cell_type": "code",
   "execution_count": 1,
   "id": "ddbeca45-62a7-40af-865e-a5871307f2d6",
   "metadata": {},
   "outputs": [],
   "source": [
    "def add_numbers(a, b):\n",
    "    \"\"\"Return the sum of two numbers.\"\"\"\n",
    "    return a + b"
   ]
  },
  {
   "cell_type": "code",
   "execution_count": 6,
   "id": "18e96018-0296-4ce0-9c6f-60f240c21b1f",
   "metadata": {},
   "outputs": [
    {
     "data": {
      "text/plain": [
       "6"
      ]
     },
     "execution_count": 6,
     "metadata": {},
     "output_type": "execute_result"
    }
   ],
   "source": [
    "add_numbers(2,4)"
   ]
  },
  {
   "cell_type": "code",
   "execution_count": 7,
   "id": "3c3e6c24-9d14-4dd8-85cf-08ec2e680336",
   "metadata": {},
   "outputs": [],
   "source": [
    "def multiply(a, b=2):\n",
    "    \"\"\"Return the product of a and b. Default value of b is 1.\"\"\"\n",
    "    return a * b"
   ]
  },
  {
   "cell_type": "code",
   "execution_count": 10,
   "id": "870f75f6-1b4a-4e72-87bb-8f34488b604a",
   "metadata": {},
   "outputs": [
    {
     "data": {
      "text/plain": [
       "6"
      ]
     },
     "execution_count": 10,
     "metadata": {},
     "output_type": "execute_result"
    }
   ],
   "source": [
    "multiply(3)"
   ]
  },
  {
   "cell_type": "code",
   "execution_count": 11,
   "id": "2587d0b7-6e65-46ef-a52d-06254769274d",
   "metadata": {},
   "outputs": [
    {
     "data": {
      "text/plain": [
       "20"
      ]
     },
     "execution_count": 11,
     "metadata": {},
     "output_type": "execute_result"
    }
   ],
   "source": [
    "multiply(4,5)"
   ]
  },
  {
   "cell_type": "code",
   "execution_count": 12,
   "id": "35e20b68-4420-448f-91a1-a7500cadc66a",
   "metadata": {},
   "outputs": [],
   "source": [
    "def list_items(*args):\n",
    "    \"\"\"Print all items passed as arguments.\"\"\"\n",
    "    for item in args:\n",
    "        print(item)"
   ]
  },
  {
   "cell_type": "code",
   "execution_count": 16,
   "id": "813fd975-6815-4b8c-a47b-26198e49c1d0",
   "metadata": {},
   "outputs": [
    {
     "name": "stdout",
     "output_type": "stream",
     "text": [
      "3\n",
      "4\n",
      "5\n"
     ]
    }
   ],
   "source": [
    "list_items(3,4,5)"
   ]
  },
  {
   "cell_type": "code",
   "execution_count": 17,
   "id": "e2d49fcc-2076-4901-8635-e5f053d5198d",
   "metadata": {},
   "outputs": [
    {
     "name": "stdout",
     "output_type": "stream",
     "text": [
      "apple\n",
      "banana\n",
      "cherry\n"
     ]
    }
   ],
   "source": [
    "list_items('apple', 'banana', 'cherry')"
   ]
  },
  {
   "cell_type": "code",
   "execution_count": 18,
   "id": "201ca086-7344-4840-93b3-d3d907c723e2",
   "metadata": {},
   "outputs": [],
   "source": [
    "def print_info(**kwargs):\n",
    "    \"\"\"Print key-value pairs passed as keyword arguments.\"\"\"\n",
    "    for key, value in kwargs.items():\n",
    "        print(f\"{key}: {value}\")"
   ]
  },
  {
   "cell_type": "code",
   "execution_count": 30,
   "id": "cfa4645c-f116-49e6-9239-2aee8e9a158d",
   "metadata": {},
   "outputs": [
    {
     "name": "stdout",
     "output_type": "stream",
     "text": [
      "fan: hello\n"
     ]
    }
   ],
   "source": [
    "print_info(fan=\"hello\")"
   ]
  },
  {
   "cell_type": "code",
   "execution_count": 31,
   "id": "087f642c-621a-440b-8781-266f7132f090",
   "metadata": {},
   "outputs": [
    {
     "name": "stdout",
     "output_type": "stream",
     "text": [
      "name: hello\n",
      "age: 23\n"
     ]
    }
   ],
   "source": [
    "print_info(name=\"hello\",age = 23)"
   ]
  },
  {
   "cell_type": "code",
   "execution_count": 37,
   "id": "8589878d-47c2-4ad5-85f2-ba5cc3b229c6",
   "metadata": {},
   "outputs": [],
   "source": [
    "def divide(a, b):\n",
    "    \"\"\"\n",
    "    Divide a by b and return the result.\n",
    "\n",
    "    Parameters:\n",
    "    a (float): The numerator.\n",
    "    b (float): The denominator.\n",
    "\n",
    "    Returns:\n",
    "    float: The result of the division.\n",
    "    \"\"\"\n",
    "    return a / b"
   ]
  },
  {
   "cell_type": "code",
   "execution_count": 38,
   "id": "7b65e813-7e2c-4e5a-887c-044da07d525a",
   "metadata": {},
   "outputs": [
    {
     "data": {
      "text/plain": [
       "8.0"
      ]
     },
     "execution_count": 38,
     "metadata": {},
     "output_type": "execute_result"
    }
   ],
   "source": [
    "divide(40,5)"
   ]
  },
  {
   "cell_type": "code",
   "execution_count": 67,
   "id": "1b8eeb7b-90be-4041-aeb8-a8339c8bd02b",
   "metadata": {},
   "outputs": [],
   "source": [
    "def calculate_area(radius):\n",
    "    \"\"\"Calculate the area of a circle with the given radius.\"\"\"\n",
    "    import math\n",
    "    area = math.pi * (radius ** 2)\n",
    "    return area"
   ]
  },
  {
   "cell_type": "code",
   "execution_count": 69,
   "id": "8436f1a8-d4f8-48cb-9cc5-1130c7151f75",
   "metadata": {},
   "outputs": [
    {
     "data": {
      "text/plain": [
       "28.274333882308138"
      ]
     },
     "execution_count": 69,
     "metadata": {},
     "output_type": "execute_result"
    }
   ],
   "source": [
    "calculate_area(3)"
   ]
  },
  {
   "cell_type": "code",
   "execution_count": 70,
   "id": "49eea51d-8d9a-451a-95df-b34f0d436499",
   "metadata": {},
   "outputs": [],
   "source": [
    "def factorial(n):\n",
    "    \"\"\"\n",
    "    Calculate the factorial of a non-negative integer n.\n",
    "\n",
    "    Parameters:\n",
    "    n (int): The number to calculate the factorial for.\n",
    "\n",
    "    Returns:\n",
    "    int: The factorial of n.\n",
    "    \"\"\"\n",
    "    if n < 0:\n",
    "        raise ValueError(\"Factorial is not defined for negative numbers\")\n",
    "    if n == 0 or n == 1:\n",
    "        return 1\n",
    "    return n * factorial(n - 1)"
   ]
  },
  {
   "cell_type": "code",
   "execution_count": 71,
   "id": "434b95ba-9272-4c78-b7d7-bc5379e4c37c",
   "metadata": {},
   "outputs": [
    {
     "data": {
      "text/plain": [
       "120"
      ]
     },
     "execution_count": 71,
     "metadata": {},
     "output_type": "execute_result"
    }
   ],
   "source": [
    "factorial(5)"
   ]
  },
  {
   "cell_type": "code",
   "execution_count": 13,
   "id": "a8e1d820-61b3-44c9-9227-5717ccdfe2ac",
   "metadata": {},
   "outputs": [],
   "source": [
    "import logging \n",
    "\n",
    "def add_numbers(a, b):\n",
    "    logging\n",
    "    \"\"\"Return the sum of two numbers.\"\"\"\n",
    "    try:\n",
    "        return a + b\n",
    "    except Exception as e:\n",
    "        print(e) "
   ]
  },
  {
   "cell_type": "code",
   "execution_count": 14,
   "id": "b0837554-b48b-4229-8f08-946173caf267",
   "metadata": {},
   "outputs": [
    {
     "data": {
      "text/plain": [
       "7"
      ]
     },
     "execution_count": 14,
     "metadata": {},
     "output_type": "execute_result"
    }
   ],
   "source": [
    "add_numbers(3,4)"
   ]
  },
  {
   "cell_type": "code",
   "execution_count": 22,
   "id": "dadd6554-f0dd-4fcf-a76b-62e76e07f411",
   "metadata": {},
   "outputs": [],
   "source": [
    "def list_items(*args):\n",
    "    logging\n",
    "    \"\"\"Print all items passed as arguments.\"\"\"\n",
    "    try:\n",
    "        for item in args:\n",
    "            print(item)   \n",
    "    except Exception as e:\n",
    "        print(e) "
   ]
  },
  {
   "cell_type": "code",
   "execution_count": 26,
   "id": "2bf34e7f-b971-4239-a908-0104cb050a94",
   "metadata": {},
   "outputs": [
    {
     "name": "stdout",
     "output_type": "stream",
     "text": [
      "3\n",
      "5\n",
      "6\n"
     ]
    }
   ],
   "source": [
    "list_items(3,5,6)"
   ]
  },
  {
   "cell_type": "code",
   "execution_count": 28,
   "id": "384685a8-f7aa-41d9-8196-e146ae8013f1",
   "metadata": {},
   "outputs": [],
   "source": [
    "def factorial(n):\n",
    "    logging\n",
    "    \"\"\"\n",
    "    Calculate the factorial of a non-negative integer n.\n",
    "\n",
    "    Parameters:\n",
    "    n (int): The number to calculate the factorial for.\n",
    "\n",
    "    Returns:\n",
    "    int: The factorial of n.\n",
    "    \"\"\"\n",
    "    try:\n",
    "         if n < 0:\n",
    "            raise ValueError(\"Factorial is not defined for negative numbers\")\n",
    "         if n == 0 or n == 1:\n",
    "            return 1\n",
    "         return n * factorial(n - 1)\n",
    "    except Exception as e:\n",
    "        print(e)  "
   ]
  },
  {
   "cell_type": "code",
   "execution_count": 29,
   "id": "9b7dc68e-a72f-4d2e-aa60-4587939c2494",
   "metadata": {},
   "outputs": [
    {
     "data": {
      "text/plain": [
       "720"
      ]
     },
     "execution_count": 29,
     "metadata": {},
     "output_type": "execute_result"
    }
   ],
   "source": [
    "factorial(6)"
   ]
  },
  {
   "cell_type": "code",
   "execution_count": 44,
   "id": "c88324bd-6b74-4609-a89d-c186188bcb7a",
   "metadata": {},
   "outputs": [],
   "source": [
    "def power_of(n, exponent):\n",
    "    logging\n",
    "    \"\"\"\n",
    "    Calculate the power of n to the exponent using a nested function.\n",
    "\n",
    "    Parameters:\n",
    "    n (int/float): The base number.\n",
    "    exponent (int): The exponent.\n",
    "\n",
    "    Returns:\n",
    "    int/float: The result of n raised to the exponent.\n",
    "    \"\"\" \n",
    "    try:\n",
    "        def calculate_power(base, exponent):\n",
    "            result = 1\n",
    "        for _ in range(exponent):\n",
    "            result *= base\n",
    "        return result\n",
    "\n",
    "        return calculate_power(n, exponent)\n",
    "    except Exception as e:\n",
    "         print(e)\n",
    "          "
   ]
  },
  {
   "cell_type": "code",
   "execution_count": 48,
   "id": "bfba556f-4a5f-465b-b18f-247346bf9b06",
   "metadata": {},
   "outputs": [
    {
     "name": "stdout",
     "output_type": "stream",
     "text": [
      "name 'exp' is not defined\n"
     ]
    }
   ],
   "source": [
    "power_of(2,3)"
   ]
  },
  {
   "cell_type": "code",
   "execution_count": null,
   "id": "1c669160-e4d2-43dc-8208-b02559665250",
   "metadata": {},
   "outputs": [],
   "source": []
  }
 ],
 "metadata": {
  "kernelspec": {
   "display_name": "Python 3 (ipykernel)",
   "language": "python",
   "name": "python3"
  },
  "language_info": {
   "codemirror_mode": {
    "name": "ipython",
    "version": 3
   },
   "file_extension": ".py",
   "mimetype": "text/x-python",
   "name": "python",
   "nbconvert_exporter": "python",
   "pygments_lexer": "ipython3",
   "version": "3.11.7"
  }
 },
 "nbformat": 4,
 "nbformat_minor": 5
}
