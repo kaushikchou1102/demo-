{
 "cells": [
  {
   "cell_type": "markdown",
   "id": "07add094-6671-4cb6-af41-a7a7de37982e",
   "metadata": {},
   "source": [
    "1. Why are functions advantageous to have in your programs?"
   ]
  },
  {
   "cell_type": "markdown",
   "id": "769cdf46-c0f0-467b-ae70-82a81e998d20",
   "metadata": {},
   "source": [
    "Ans\n",
    "\n",
    "Modularity\n",
    "\n",
    "Reusability\n",
    "\n",
    "Maintainability\n",
    "\n",
    "Readability\n",
    "\n",
    "Testing and Debugging\n",
    "\n",
    "Avoiding Redundancy\n",
    "\n",
    "Encapsulation\n",
    "\n",
    "Scope Management\n",
    "\n",
    "Documentation"
   ]
  },
  {
   "cell_type": "markdown",
   "id": "e1658468-b0d2-4292-9a55-7437a429af7e",
   "metadata": {},
   "source": [
    "2. When does the code in a function run: when it's specified or when it's called?"
   ]
  },
  {
   "cell_type": "markdown",
   "id": "dfd49afa-a993-4ea3-8cf0-dffa7c8ceae1",
   "metadata": {},
   "source": [
    "Ans\n",
    "\n",
    "The code inside a function is not executed when the function is defined. The code inside a function is executed when the function is invoked. It is common to use the term \"call a function\" instead of \"invoke a function\". It is also common to say \"call upon a function\", \"start a function\", or \"execute a function\"."
   ]
  },
  {
   "cell_type": "markdown",
   "id": "a3c41c4c-965b-4474-a93d-df444f8c9678",
   "metadata": {},
   "source": [
    "3. What statement creates a function?\n"
   ]
  },
  {
   "cell_type": "markdown",
   "id": "565e9e7a-e226-40f0-a589-24464b09b816",
   "metadata": {},
   "source": [
    "Ans\n",
    "\n",
    "The def statement defines (that is, creates) a function."
   ]
  },
  {
   "cell_type": "markdown",
   "id": "ac8a99dc-1578-4d4e-9946-7b6e24e36008",
   "metadata": {},
   "source": [
    "4. What is the difference between a function and a function call?\n"
   ]
  },
  {
   "cell_type": "markdown",
   "id": "315e8a41-2a2f-4c99-8a3b-0e2452eddfaa",
   "metadata": {},
   "source": [
    "Ans\n",
    "\n",
    "Function:\n",
    "\n",
    "Definition: A function is a block of code designed to perform a specific task. It is defined by using a specific syntax and can include parameters, a body of statements, and a return value.\n",
    "\n",
    "Function Call:\n",
    "\n",
    "Definition: A function call is an expression that executes the code within a function. It uses the function's name followed by parentheses, which may include arguments corresponding to the function's parameters."
   ]
  },
  {
   "cell_type": "markdown",
   "id": "69ed5ed1-b3a7-49dc-bca6-a17d21a523a6",
   "metadata": {},
   "source": [
    "5. How many global scopes are there in a Python program? How many local scopes?\n"
   ]
  },
  {
   "cell_type": "markdown",
   "id": "c2d2c9d3-4797-4ba5-b631-46b1828a122b",
   "metadata": {},
   "source": [
    "Ans\n",
    "\n",
    "Global Scope:\n",
    "\n",
    "Number of Global Scopes: There is exactly one global scope in a Python program. This global scope encompasses the entire module (file) where the code is written. Variables defined at this level can be accessed by any function or code block within that module, unless shadowed by local variables with the same name.\n",
    "Visibility: Variables defined in the global scope are accessible from any place in the module, including within functions (unless a variable of the same name is defined locally within a function).\n",
    "\n",
    "\n",
    "Local Scope:\n",
    "\n",
    "Number of Local Scopes: The number of local scopes in a Python program is not fixed and depends on the structure of the program. Each function call creates its own local scope. Therefore, the number of local scopes is equal to the number of active function calls at any point in time.\n",
    "Visibility: Variables defined in a local scope are only accessible within that scope. Each function call has its own local scope, and variables in this scope are not accessible outside the function.\n",
    "\n",
    "Nested Scopes:\n",
    "\n",
    "Python also supports nested scopes, which include:\n",
    "Enclosing Scope: The scope of any enclosing functions, which can be accessed from inner functions (using the nonlocal keyword to modify them).\n",
    "Built-in Scope: The outermost scope, which contains built-in functions and exceptions."
   ]
  },
  {
   "cell_type": "markdown",
   "id": "691a2512-4826-4e5b-bcd6-e54b6c09c53e",
   "metadata": {},
   "source": [
    "6. What happens to variables in a local scope when the function call returns?\n"
   ]
  },
  {
   "cell_type": "markdown",
   "id": "c9668424-b9c8-44fc-9317-736efb684dba",
   "metadata": {},
   "source": [
    "Ans\n",
    "\n",
    "Memory Deallocation: The memory allocated for the local variables is deallocated. These variables cease to exist, and any references to them from outside the function become invalid.\n",
    "\n",
    "Garbage Collection: If any of the local variables are objects and there are no other references to those objects from outside the function, they may be collected by Python’s garbage collector. This helps in efficient memory management by reclaiming memory no longer in use.\n",
    "\n",
    "Local State Reset: On subsequent calls to the function, the local scope is re-initialized, meaning that local variables are freshly created and do not retain values from previous calls. Each function call has its own separate local scope."
   ]
  },
  {
   "cell_type": "markdown",
   "id": "c9cc0059-65b2-46e6-b008-ad0e1cdb28ab",
   "metadata": {},
   "source": [
    "7. What is the concept of a return value? Is it possible to have a return value in an expression?\n"
   ]
  },
  {
   "cell_type": "markdown",
   "id": "de58cedb-c01d-494d-b84e-72b5314724e0",
   "metadata": {},
   "source": [
    "Ans\n",
    "\n",
    "A return value is the output that a function produces and sends back to the caller when it completes its execution. This value is specified using the return statement within the function. The return value can be of any data type, including integers, floats, strings, lists, dictionaries, custom objects, or even None.\n",
    "\n",
    "Purpose of a Return Value\n",
    "\n",
    "1 Output Results: Allows a function to output data that can be used by other parts of the program.\n",
    "\n",
    "2 Flow Control: Helps control the flow of the program by sending results from one function to another.\n",
    "\n",
    "3 Reusability: Makes functions more versatile and reusable by allowing them to perform computations and return the results.\n",
    "\n"
   ]
  },
  {
   "cell_type": "markdown",
   "id": "9e0c579d-127b-47a3-bbd2-d4e858b6dc7c",
   "metadata": {},
   "source": [
    "8. If a function does not have a return statement, what is the return value of a call to that function?"
   ]
  },
  {
   "cell_type": "markdown",
   "id": "3f32fb23-9b7e-441d-8477-dc0f9d024176",
   "metadata": {},
   "source": [
    "Ans\n",
    "\n",
    "If a function does not have a return statement, the return value of a call to that function is 'None'. In Python, 'None' is a special constant representing the absence of a value or a null value."
   ]
  },
  {
   "cell_type": "markdown",
   "id": "e8f90d41-33a1-4c31-96cc-5a4fafb260f4",
   "metadata": {},
   "source": [
    "9. How do you make a function variable refer to the global variable?\n"
   ]
  },
  {
   "cell_type": "markdown",
   "id": "0f38e695-9a73-417f-ad75-728ed6c54150",
   "metadata": {},
   "source": [
    "Ans\n",
    "\n",
    "This keyword is used to declare that a variable inside a function is a global variable, meaning that it refers to the variable defined at the global scope of the module. Without this declaration, any assignment to a variable within the function creates a new local variable, even if a variable with the same name exists in the global scope."
   ]
  },
  {
   "cell_type": "markdown",
   "id": "c4c75985-146c-4feb-87fe-5859bf712a6b",
   "metadata": {},
   "source": [
    "10. What is the data type of None?\n"
   ]
  },
  {
   "cell_type": "markdown",
   "id": "07fd9705-65fa-4a3f-bd1e-ab0b814ac111",
   "metadata": {},
   "source": [
    "Ans\n",
    "\n",
    "In Python, None is a special constant that represents the absence of a value or a null value. Its data type is NoneType."
   ]
  },
  {
   "cell_type": "markdown",
   "id": "d817d83c-0802-4d72-a6b4-538b8cc29d94",
   "metadata": {},
   "source": [
    "11. What does the sentence import areallyourpetsnamederic do?\n"
   ]
  },
  {
   "cell_type": "markdown",
   "id": "2ef6292c-5189-4399-98b3-b5b7eae1c248",
   "metadata": {},
   "source": [
    "Ans\n",
    "\n",
    "The sentence import areallyourpetsnamederic is a Python import statement that attempts to import a module named areallyourpetsnamederic. Here’s what happens:\n",
    "\n",
    "Module Import: Python will try to find a module named areallyourpetsnamederic in the directories specified by sys.path and attempt to import it.\n",
    "\n",
    "Module Not Found: If there is no module with that name available in the Python environment, Python will raise an ImportError indicating that the module could not be found.\n",
    "\n",
    "In practice, areallyourpetsnamederic is not a standard Python module and does not exist in the Python Standard Library or common third-party libraries. It appears to be an example of a whimsical or humorous module name often used to illustrate concepts or for educational purposes.\n",
    "\n",
    "For instance, the Python Package Index (PyPI) or common module directories might not have such a module, and if you try to import it without installing it, you will likely get an ImportError"
   ]
  },
  {
   "cell_type": "markdown",
   "id": "86741ef0-75df-498a-9fa9-3de3ed9edbff",
   "metadata": {},
   "source": [
    "\n",
    "12. If you had a bacon() feature in a spam module, what would you call it after importing spam?\n",
    "\n"
   ]
  },
  {
   "cell_type": "markdown",
   "id": "016b0a71-7159-4f7e-8695-f0778674ff6a",
   "metadata": {},
   "source": [
    "Ans\n",
    "\n",
    "import spam\n",
    "\r\n",
    "spam.bacon()"
   ]
  },
  {
   "cell_type": "markdown",
   "id": "273eef6b-f7de-49f3-b343-c600418012b4",
   "metadata": {},
   "source": [
    "13. What can you do to save a programme from crashing if it encounters an error?\n"
   ]
  },
  {
   "cell_type": "markdown",
   "id": "b6086966-7097-4ce3-8cbb-5ff221fafffe",
   "metadata": {},
   "source": [
    "Ans\n",
    "\n",
    "In Python, this is done using 'try', 'except', 'else', and 'finally blocks'. Here’s a detailed breakdown of how you can handle errors to keep your program running smoothly:"
   ]
  },
  {
   "cell_type": "markdown",
   "id": "2eb5f9cf-713d-412b-b547-3e6442ceb20d",
   "metadata": {},
   "source": [
    "14. What is the purpose of the try clause? What is the purpose of the except clause?"
   ]
  },
  {
   "cell_type": "markdown",
   "id": "11f089bc-3bc3-456b-ba3c-872fd5c89474",
   "metadata": {},
   "source": [
    "Ans\n",
    "\n",
    "Try and Except clause is used to handle the errors within our code . The try block is used to check some code for errors i.e the code inside the try block will execute when there is no error in the program. Whereas the code inside the except block will execute whenever the program encounters some error in the try block.\n"
   ]
  },
  {
   "cell_type": "code",
   "execution_count": null,
   "id": "daf750bc-62a1-488e-96aa-25dc4c0d336e",
   "metadata": {},
   "outputs": [],
   "source": []
  }
 ],
 "metadata": {
  "kernelspec": {
   "display_name": "Python 3 (ipykernel)",
   "language": "python",
   "name": "python3"
  },
  "language_info": {
   "codemirror_mode": {
    "name": "ipython",
    "version": 3
   },
   "file_extension": ".py",
   "mimetype": "text/x-python",
   "name": "python",
   "nbconvert_exporter": "python",
   "pygments_lexer": "ipython3",
   "version": "3.11.7"
  }
 },
 "nbformat": 4,
 "nbformat_minor": 5
}
